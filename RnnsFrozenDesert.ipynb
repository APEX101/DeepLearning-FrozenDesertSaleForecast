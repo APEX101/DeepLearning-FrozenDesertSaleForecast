{
 "cells": [
  {
   "cell_type": "code",
   "execution_count": 1,
   "metadata": {
    "id": "ZZc8vZKbl9HN"
   },
   "outputs": [
    {
     "name": "stdout",
     "output_type": "stream",
     "text": [
      "Fri Oct 22 23:44:03 2021       \n",
      "+-----------------------------------------------------------------------------+\n",
      "| NVIDIA-SMI 496.13       Driver Version: 496.13       CUDA Version: 11.5     |\n",
      "|-------------------------------+----------------------+----------------------+\n",
      "| GPU  Name            TCC/WDDM | Bus-Id        Disp.A | Volatile Uncorr. ECC |\n",
      "| Fan  Temp  Perf  Pwr:Usage/Cap|         Memory-Usage | GPU-Util  Compute M. |\n",
      "|                               |                      |               MIG M. |\n",
      "|===============================+======================+======================|\n",
      "|   0  NVIDIA GeForce ... WDDM  | 00000000:01:00.0 Off |                  N/A |\n",
      "| N/A    0C    P8    N/A /  N/A |     75MiB /  4096MiB |      0%      Default |\n",
      "|                               |                      |                  N/A |\n",
      "+-------------------------------+----------------------+----------------------+\n",
      "                                                                               \n",
      "+-----------------------------------------------------------------------------+\n",
      "| Processes:                                                                  |\n",
      "|  GPU   GI   CI        PID   Type   Process name                  GPU Memory |\n",
      "|        ID   ID                                                   Usage      |\n",
      "|=============================================================================|\n",
      "|  No running processes found                                                 |\n",
      "+-----------------------------------------------------------------------------+\n"
     ]
    }
   ],
   "source": [
    "!nvidia-smi"
   ]
  },
  {
   "cell_type": "code",
   "execution_count": 2,
   "metadata": {
    "colab": {
     "base_uri": "https://localhost:8080/"
    },
    "id": "_MIO35ZzmFRc",
    "outputId": "21b27fa4-1e05-4167-a599-2a50a245e374"
   },
   "outputs": [
    {
     "ename": "ModuleNotFoundError",
     "evalue": "No module named 'google.colab'",
     "output_type": "error",
     "traceback": [
      "\u001b[1;31m---------------------------------------------------------------------------\u001b[0m",
      "\u001b[1;31mModuleNotFoundError\u001b[0m                       Traceback (most recent call last)",
      "\u001b[1;32m<ipython-input-2-47ccba274b6a>\u001b[0m in \u001b[0;36m<module>\u001b[1;34m\u001b[0m\n\u001b[1;32m----> 1\u001b[1;33m \u001b[1;32mfrom\u001b[0m \u001b[0mgoogle\u001b[0m\u001b[1;33m.\u001b[0m\u001b[0mcolab\u001b[0m \u001b[1;32mimport\u001b[0m \u001b[0mdrive\u001b[0m\u001b[1;33m\u001b[0m\u001b[1;33m\u001b[0m\u001b[0m\n\u001b[0m\u001b[0;32m      2\u001b[0m \u001b[0mdrive\u001b[0m\u001b[1;33m.\u001b[0m\u001b[0mmount\u001b[0m \u001b[1;33m(\u001b[0m\u001b[1;34m'/content/drive'\u001b[0m\u001b[1;33m)\u001b[0m\u001b[1;33m\u001b[0m\u001b[1;33m\u001b[0m\u001b[0m\n",
      "\u001b[1;31mModuleNotFoundError\u001b[0m: No module named 'google.colab'"
     ]
    }
   ],
   "source": [
    "from google.colab import drive\n",
    "drive.mount ('/content/drive')"
   ]
  },
  {
   "cell_type": "code",
   "execution_count": null,
   "metadata": {
    "colab": {
     "base_uri": "https://localhost:8080/"
    },
    "id": "M3_c5mhnmGRK",
    "outputId": "8ca11984-08c9-4bc3-a25b-f12ce0717c30"
   },
   "outputs": [],
   "source": [
    "!ls"
   ]
  },
  {
   "cell_type": "markdown",
   "metadata": {
    "id": "nLR48eXLmZ_k"
   },
   "source": [
    "# Data Preprocessing"
   ]
  },
  {
   "cell_type": "code",
   "execution_count": 4,
   "metadata": {
    "id": "D7wqAC_Am9ug"
   },
   "outputs": [],
   "source": [
    "import numpy as np\n",
    "import matplotlib.pyplot as plt\n",
    "import pandas as pd\n"
   ]
  },
  {
   "cell_type": "code",
   "execution_count": null,
   "metadata": {
    "colab": {
     "base_uri": "https://localhost:8080/"
    },
    "id": "mMDw45KZmH7X",
    "outputId": "500c7abb-4d55-4faf-e67a-e24adc526641"
   },
   "outputs": [],
   "source": [
    "%cd  '/content/drive/MyDrive/RNNs Frozen desert Production forecast'"
   ]
  },
  {
   "cell_type": "code",
   "execution_count": null,
   "metadata": {
    "colab": {
     "base_uri": "https://localhost:8080/"
    },
    "id": "W20N6zLYmrpn",
    "outputId": "021a1a5f-146a-4796-9f93-8c8c0bbd671c"
   },
   "outputs": [],
   "source": [
    "!ls"
   ]
  },
  {
   "cell_type": "code",
   "execution_count": 5,
   "metadata": {
    "id": "95IuuQuOm1N2"
   },
   "outputs": [],
   "source": [
    "#Read parse dataes reset index\n",
    "df = pd.read_csv('Frozen_Dessert_Production.csv' , parse_dates=True , index_col='DATE')"
   ]
  },
  {
   "cell_type": "code",
   "execution_count": 6,
   "metadata": {
    "colab": {
     "base_uri": "https://localhost:8080/",
     "height": 455
    },
    "id": "wB5_H6zUnMPm",
    "outputId": "fda40b9f-00a8-4b87-80ee-720864eb94a2"
   },
   "outputs": [
    {
     "data": {
      "text/html": [
       "<div>\n",
       "<style scoped>\n",
       "    .dataframe tbody tr th:only-of-type {\n",
       "        vertical-align: middle;\n",
       "    }\n",
       "\n",
       "    .dataframe tbody tr th {\n",
       "        vertical-align: top;\n",
       "    }\n",
       "\n",
       "    .dataframe thead th {\n",
       "        text-align: right;\n",
       "    }\n",
       "</style>\n",
       "<table border=\"1\" class=\"dataframe\">\n",
       "  <thead>\n",
       "    <tr style=\"text-align: right;\">\n",
       "      <th></th>\n",
       "      <th>Sale</th>\n",
       "    </tr>\n",
       "    <tr>\n",
       "      <th>DATE</th>\n",
       "      <th></th>\n",
       "    </tr>\n",
       "  </thead>\n",
       "  <tbody>\n",
       "    <tr>\n",
       "      <th>1972-01-01</th>\n",
       "      <td>59.9622</td>\n",
       "    </tr>\n",
       "    <tr>\n",
       "      <th>1972-02-01</th>\n",
       "      <td>67.0605</td>\n",
       "    </tr>\n",
       "    <tr>\n",
       "      <th>1972-03-01</th>\n",
       "      <td>74.2350</td>\n",
       "    </tr>\n",
       "    <tr>\n",
       "      <th>1972-04-01</th>\n",
       "      <td>78.1120</td>\n",
       "    </tr>\n",
       "    <tr>\n",
       "      <th>1972-05-01</th>\n",
       "      <td>84.7636</td>\n",
       "    </tr>\n",
       "    <tr>\n",
       "      <th>...</th>\n",
       "      <td>...</td>\n",
       "    </tr>\n",
       "    <tr>\n",
       "      <th>2019-05-01</th>\n",
       "      <td>114.5613</td>\n",
       "    </tr>\n",
       "    <tr>\n",
       "      <th>2019-06-01</th>\n",
       "      <td>124.9605</td>\n",
       "    </tr>\n",
       "    <tr>\n",
       "      <th>2019-07-01</th>\n",
       "      <td>110.2632</td>\n",
       "    </tr>\n",
       "    <tr>\n",
       "      <th>2019-08-01</th>\n",
       "      <td>102.6085</td>\n",
       "    </tr>\n",
       "    <tr>\n",
       "      <th>2019-09-01</th>\n",
       "      <td>101.5866</td>\n",
       "    </tr>\n",
       "  </tbody>\n",
       "</table>\n",
       "<p>573 rows × 1 columns</p>\n",
       "</div>"
      ],
      "text/plain": [
       "                Sale\n",
       "DATE                \n",
       "1972-01-01   59.9622\n",
       "1972-02-01   67.0605\n",
       "1972-03-01   74.2350\n",
       "1972-04-01   78.1120\n",
       "1972-05-01   84.7636\n",
       "...              ...\n",
       "2019-05-01  114.5613\n",
       "2019-06-01  124.9605\n",
       "2019-07-01  110.2632\n",
       "2019-08-01  102.6085\n",
       "2019-09-01  101.5866\n",
       "\n",
       "[573 rows x 1 columns]"
      ]
     },
     "execution_count": 6,
     "metadata": {},
     "output_type": "execute_result"
    }
   ],
   "source": [
    "#change column name\n",
    "df.columns = ['Sale']\n",
    "df"
   ]
  },
  {
   "cell_type": "code",
   "execution_count": 7,
   "metadata": {
    "colab": {
     "base_uri": "https://localhost:8080/",
     "height": 516
    },
    "id": "GKKGCCaKnMwW",
    "outputId": "73c59437-22eb-4d0a-e625-386f972ec706"
   },
   "outputs": [
    {
     "data": {
      "text/plain": [
       "<AxesSubplot:xlabel='DATE'>"
      ]
     },
     "execution_count": 7,
     "metadata": {},
     "output_type": "execute_result"
    },
    {
     "data": {
      "image/png": "[encoded data removed]",
      "text/plain": [
       "<Figure size 1080x576 with 1 Axes>"
      ]
     },
     "metadata": {
      "needs_background": "light"
     },
     "output_type": "display_data"
    }
   ],
   "source": [
    "df.plot(figsize = (15,8))"
   ]
  },
  {
   "cell_type": "code",
   "execution_count": 8,
   "metadata": {
    "id": "e_yEXMgCoQy1"
   },
   "outputs": [],
   "source": [
    "#Data is montly and One pattern is repeated in one Year \n",
    "#So for forecasting we Choose 2 years for test and 12 months as length"
   ]
  },
  {
   "cell_type": "markdown",
   "metadata": {
    "id": "q_RV_zlsqTYG"
   },
   "source": [
    "## Splitting "
   ]
  },
  {
   "cell_type": "code",
   "execution_count": 9,
   "metadata": {
    "colab": {
     "base_uri": "https://localhost:8080/"
    },
    "id": "NoLCrdwtqH81",
    "outputId": "4e4d2502-2595-410d-cf1c-f89814dbc3d3"
   },
   "outputs": [
    {
     "name": "stdout",
     "output_type": "stream",
     "text": [
      "<class 'pandas.core.frame.DataFrame'>\n",
      "DatetimeIndex: 573 entries, 1972-01-01 to 2019-09-01\n",
      "Data columns (total 1 columns):\n",
      " #   Column  Non-Null Count  Dtype  \n",
      "---  ------  --------------  -----  \n",
      " 0   Sale    573 non-null    float64\n",
      "dtypes: float64(1)\n",
      "memory usage: 9.0 KB\n"
     ]
    }
   ],
   "source": [
    "df.info()"
   ]
  },
  {
   "cell_type": "code",
   "execution_count": 10,
   "metadata": {
    "colab": {
     "base_uri": "https://localhost:8080/"
    },
    "id": "OtRB9FIeqnu1",
    "outputId": "5ad0d072-7d8f-4e87-fdd4-9fd8047ec313"
   },
   "outputs": [
    {
     "data": {
      "text/plain": [
       "573"
      ]
     },
     "execution_count": 10,
     "metadata": {},
     "output_type": "execute_result"
    }
   ],
   "source": [
    "len(df)"
   ]
  },
  {
   "cell_type": "code",
   "execution_count": 11,
   "metadata": {
    "colab": {
     "base_uri": "https://localhost:8080/"
    },
    "id": "EG_xFrFWrbBk",
    "outputId": "9a9002b8-7686-418b-b716-2508b69940a0"
   },
   "outputs": [
    {
     "data": {
      "text/plain": [
       "549"
      ]
     },
     "execution_count": 11,
     "metadata": {},
     "output_type": "execute_result"
    }
   ],
   "source": [
    "#We need 24 months of data for test as data is montly first day only\n",
    "#we choose last 24 rows of daata for test\n",
    "573-24"
   ]
  },
  {
   "cell_type": "code",
   "execution_count": 12,
   "metadata": {
    "id": "gjWEC5Ttr15E"
   },
   "outputs": [],
   "source": [
    "train  = df.iloc[:549]\n",
    "test = df.iloc[549:]"
   ]
  },
  {
   "cell_type": "code",
   "execution_count": 13,
   "metadata": {
    "colab": {
     "base_uri": "https://localhost:8080/"
    },
    "id": "bVUjFj6IsMH0",
    "outputId": "cff1e7fb-409d-4510-f4a7-7cde49e2280f"
   },
   "outputs": [
    {
     "data": {
      "text/plain": [
       "24"
      ]
     },
     "execution_count": 13,
     "metadata": {},
     "output_type": "execute_result"
    }
   ],
   "source": [
    "len(test)"
   ]
  },
  {
   "cell_type": "markdown",
   "metadata": {
    "id": "oTFyRgXJsXI1"
   },
   "source": [
    "## Scaling"
   ]
  },
  {
   "cell_type": "code",
   "execution_count": 14,
   "metadata": {
    "id": "ZHVzRcHasNTU"
   },
   "outputs": [],
   "source": [
    "from sklearn.preprocessing import MinMaxScaler"
   ]
  },
  {
   "cell_type": "code",
   "execution_count": 15,
   "metadata": {
    "id": "e0Zj3MsRshfj"
   },
   "outputs": [],
   "source": [
    "scaler =  MinMaxScaler()\n",
    "scaler.fit(train)\n",
    "\n",
    "train_scaler = scaler.transform(train)\n",
    "test_scaler = scaler.transform(test)"
   ]
  },
  {
   "cell_type": "code",
   "execution_count": 16,
   "metadata": {
    "colab": {
     "base_uri": "https://localhost:8080/"
    },
    "id": "fYC2makLswrT",
    "outputId": "5be34926-d6f4-4bc7-ca1f-6fbc1e6532e6"
   },
   "outputs": [
    {
     "data": {
      "text/plain": [
       "array([[0.23134679],\n",
       "       [0.13655347],\n",
       "       [0.12472921],\n",
       "       [0.18015997],\n",
       "       [0.29691617],\n",
       "       [0.35382169],\n",
       "       [0.39102302],\n",
       "       [0.37592272],\n",
       "       [0.47940099],\n",
       "       [0.42586022],\n",
       "       [0.3928192 ],\n",
       "       [0.32470899],\n",
       "       [0.2434103 ],\n",
       "       [0.17289089],\n",
       "       [0.13163033],\n",
       "       [0.20608099],\n",
       "       [0.28689318],\n",
       "       [0.41822681],\n",
       "       [0.40948951],\n",
       "       [0.40651527],\n",
       "       [0.48213817],\n",
       "       [0.37525952],\n",
       "       [0.3195946 ],\n",
       "       [0.31216335]])"
      ]
     },
     "execution_count": 16,
     "metadata": {},
     "output_type": "execute_result"
    }
   ],
   "source": [
    "test_scaler"
   ]
  },
  {
   "cell_type": "markdown",
   "metadata": {
    "id": "ZOHRYUB_s5zk"
   },
   "source": [
    "## Creating Batches "
   ]
  },
  {
   "cell_type": "code",
   "execution_count": 17,
   "metadata": {
    "id": "avZz5EAHs2I0"
   },
   "outputs": [],
   "source": [
    "import tensorflow\n",
    "import keras\n",
    "from tensorflow.keras.preprocessing.sequence import TimeseriesGenerator"
   ]
  },
  {
   "cell_type": "code",
   "execution_count": 18,
   "metadata": {
    "id": "hHGV9d7Xs-mD"
   },
   "outputs": [],
   "source": [
    "#TimeSeries Generator to create batches\n",
    "length = 12   #one pattern in 12 units of data in df (i-e 1 year)\n",
    "batch_size = 1"
   ]
  },
  {
   "cell_type": "code",
   "execution_count": 19,
   "metadata": {
    "id": "mX9RrBB2tDGD"
   },
   "outputs": [],
   "source": [
    "train_generator = TimeseriesGenerator(train_scaler, train_scaler, length = length, batch_size=batch_size)\n",
    "\n",
    "test_generator = TimeseriesGenerator(test_scaler, test_scaler, length = length, batch_size=batch_size)"
   ]
  },
  {
   "cell_type": "code",
   "execution_count": 20,
   "metadata": {
    "colab": {
     "base_uri": "https://localhost:8080/"
    },
    "id": "WluR3owDtvhj",
    "outputId": "745e663b-979d-45af-c0cd-bdf41372171c"
   },
   "outputs": [
    {
     "data": {
      "text/plain": [
       "(array([[[0.13655347],\n",
       "         [0.12472921],\n",
       "         [0.18015997],\n",
       "         [0.29691617],\n",
       "         [0.35382169],\n",
       "         [0.39102302],\n",
       "         [0.37592272],\n",
       "         [0.47940099],\n",
       "         [0.42586022],\n",
       "         [0.3928192 ],\n",
       "         [0.32470899],\n",
       "         [0.2434103 ]]]),\n",
       " array([[0.17289089]]))"
      ]
     },
     "execution_count": 20,
     "metadata": {},
     "output_type": "execute_result"
    }
   ],
   "source": [
    "test_generator[1]"
   ]
  },
  {
   "cell_type": "markdown",
   "metadata": {
    "id": "_bsn2-EwuCdO"
   },
   "source": [
    "# Train"
   ]
  },
  {
   "cell_type": "markdown",
   "metadata": {
    "id": "tbAjpOt3uE8v"
   },
   "source": [
    "## Early Stoppings"
   ]
  },
  {
   "cell_type": "code",
   "execution_count": 21,
   "metadata": {
    "id": "WvZ_Ur4Ftwzz"
   },
   "outputs": [],
   "source": [
    "from tensorflow.keras.callbacks import EarlyStopping"
   ]
  },
  {
   "cell_type": "code",
   "execution_count": 22,
   "metadata": {
    "id": "TvUAUz-ouM6i"
   },
   "outputs": [],
   "source": [
    "earlystop  = EarlyStopping(monitor='val_loss',  patience=2, verbose=1, mode='min')"
   ]
  },
  {
   "cell_type": "markdown",
   "metadata": {
    "id": "ZEQzBKSIujj5"
   },
   "source": [
    "## Train Config"
   ]
  },
  {
   "cell_type": "code",
   "execution_count": 23,
   "metadata": {
    "id": "1exsKUS8uchD"
   },
   "outputs": [],
   "source": [
    "from tensorflow.keras.layers import Dense , LSTM \n",
    "from tensorflow.keras.models import Sequential"
   ]
  },
  {
   "cell_type": "code",
   "execution_count": 167,
   "metadata": {
    "id": "AqQAYOaAvGTz"
   },
   "outputs": [],
   "source": [
    "n_features = 1    #predicting how many features for timeseries(here it is one)\n",
    "\n",
    "model = Sequential()\n",
    "\n",
    "model.add(LSTM(units= 128 , activation='relu' , input_shape=(length,n_features)))\n",
    "\n",
    "model.add(Dense(32 , activation='elu' ))\n",
    "#output\n",
    "model.add(Dense(1))        #Taking one batch of data as output\n"
   ]
  },
  {
   "cell_type": "code",
   "execution_count": 168,
   "metadata": {
    "id": "86EKtoUDv-0R"
   },
   "outputs": [],
   "source": [
    "model.compile(optimizer='adam', loss='mse')"
   ]
  },
  {
   "cell_type": "code",
   "execution_count": 169,
   "metadata": {
    "colab": {
     "base_uri": "https://localhost:8080/"
    },
    "id": "EriilH9zwMiC",
    "outputId": "337c6d8e-d2b3-4ef9-da3a-d5d7e4a4f5e0"
   },
   "outputs": [
    {
     "name": "stdout",
     "output_type": "stream",
     "text": [
      "Model: \"sequential_16\"\n",
      "_________________________________________________________________\n",
      "Layer (type)                 Output Shape              Param #   \n",
      "=================================================================\n",
      "lstm_16 (LSTM)               (None, 128)               66560     \n",
      "_________________________________________________________________\n",
      "dense_31 (Dense)             (None, 32)                4128      \n",
      "_________________________________________________________________\n",
      "dense_32 (Dense)             (None, 1)                 33        \n",
      "=================================================================\n",
      "Total params: 70,721\n",
      "Trainable params: 70,721\n",
      "Non-trainable params: 0\n",
      "_________________________________________________________________\n"
     ]
    }
   ],
   "source": [
    "model.summary()"
   ]
  },
  {
   "cell_type": "code",
   "execution_count": 170,
   "metadata": {
    "colab": {
     "base_uri": "https://localhost:8080/"
    },
    "id": "lsW8hrewwN1x",
    "outputId": "794837de-b989-487c-941a-d08e1475e047"
   },
   "outputs": [
    {
     "name": "stdout",
     "output_type": "stream",
     "text": [
      "Epoch 1/10\n",
      "537/537 [==============================] - 2s 3ms/step - loss: 0.0177 - val_loss: 0.0051\n",
      "Epoch 2/10\n",
      "537/537 [==============================] - 2s 3ms/step - loss: 0.0047 - val_loss: 0.0020\n",
      "Epoch 3/10\n",
      "537/537 [==============================] - 1s 3ms/step - loss: 0.0044 - val_loss: 0.0026\n",
      "Epoch 4/10\n",
      "537/537 [==============================] - 1s 3ms/step - loss: 0.0037 - val_loss: 0.0022\n",
      "Epoch 00004: early stopping\n"
     ]
    },
    {
     "data": {
      "text/plain": [
       "<tensorflow.python.keras.callbacks.History at 0x2710ce12df0>"
      ]
     },
     "execution_count": 170,
     "metadata": {},
     "output_type": "execute_result"
    }
   ],
   "source": [
    "#fitting\n",
    "\n",
    "model.fit(train_generator , validation_data=test_generator , epochs= 10 , callbacks=[earlystop])"
   ]
  },
  {
   "cell_type": "code",
   "execution_count": 171,
   "metadata": {
    "colab": {
     "base_uri": "https://localhost:8080/",
     "height": 284
    },
    "id": "H3Nc1zRTwgqh",
    "outputId": "31a5b649-74d2-4826-986d-8954d22fb88a"
   },
   "outputs": [
    {
     "data": {
      "text/plain": [
       "<AxesSubplot:>"
      ]
     },
     "execution_count": 171,
     "metadata": {},
     "output_type": "execute_result"
    },
    {
     "data": {
      "image/png": "[encoded data removed]",
      "text/plain": [
       "<Figure size 432x288 with 1 Axes>"
      ]
     },
     "metadata": {
      "needs_background": "light"
     },
     "output_type": "display_data"
    }
   ],
   "source": [
    "#plotting losses\n",
    "loss = pd.DataFrame(model.history.history)\n",
    "loss.plot()"
   ]
  },
  {
   "cell_type": "markdown",
   "metadata": {
    "id": "U3PWT3Vnw48j"
   },
   "source": [
    "# Test"
   ]
  },
  {
   "cell_type": "code",
   "execution_count": 172,
   "metadata": {
    "id": "TllBGXGjwuaR"
   },
   "outputs": [],
   "source": [
    "test_predictions  = []\n",
    "\n",
    "#take last no of lenght (18) values from train-scaled to forecast future\n",
    "first_eval_batch = train_scaler[-length:]\n",
    "#reshape it in form in which we trained our data input shape\n",
    "current_batch = first_eval_batch.reshape((1,length,n_features))\n",
    "\n",
    "#creating loop which predicts future values then from array delete last value\n",
    "#append the predicted value at top and run for no of instances in test data\n",
    "#wil run for 18 values\n",
    "for i in range(len(test)):\n",
    "  #getting prediction on current batch\n",
    "  current_pred = model.predict(current_batch)[0]\n",
    "  #appending predictions in array\n",
    "  test_predictions.append(current_pred)\n",
    "\n",
    "  #remove last length dimension value form batch anda add predictins at the top\n",
    "  current_batch = np.append(current_batch[:,1:,:],[[current_pred]],axis=1  )"
   ]
  },
  {
   "cell_type": "code",
   "execution_count": 173,
   "metadata": {
    "colab": {
     "base_uri": "https://localhost:8080/"
    },
    "id": "o1PVXE0vxM3w",
    "outputId": "21746269-5bc0-4e25-f527-a916a7cc7d2b"
   },
   "outputs": [
    {
     "data": {
      "text/plain": [
       "[array([0.22046909], dtype=float32),\n",
       " array([0.1698463], dtype=float32),\n",
       " array([0.16528219], dtype=float32),\n",
       " array([0.22607544], dtype=float32),\n",
       " array([0.3133251], dtype=float32),\n",
       " array([0.39084187], dtype=float32),\n",
       " array([0.44427395], dtype=float32),\n",
       " array([0.4812165], dtype=float32),\n",
       " array([0.48483527], dtype=float32),\n",
       " array([0.44504008], dtype=float32),\n",
       " array([0.36731786], dtype=float32),\n",
       " array([0.26419568], dtype=float32),\n",
       " array([0.166423], dtype=float32),\n",
       " array([0.1042873], dtype=float32),\n",
       " array([0.10208407], dtype=float32),\n",
       " array([0.16140038], dtype=float32),\n",
       " array([0.25532463], dtype=float32),\n",
       " array([0.34225023], dtype=float32),\n",
       " array([0.4090008], dtype=float32),\n",
       " array([0.4555996], dtype=float32),\n",
       " array([0.4730935], dtype=float32),\n",
       " array([0.44414362], dtype=float32),\n",
       " array([0.36897323], dtype=float32),\n",
       " array([0.26313928], dtype=float32)]"
      ]
     },
     "execution_count": 173,
     "metadata": {},
     "output_type": "execute_result"
    }
   ],
   "source": [
    "#Values for forecast\n",
    "test_predictions"
   ]
  },
  {
   "cell_type": "markdown",
   "metadata": {
    "id": "UrMZc-vhyQ7F"
   },
   "source": [
    "**Inverse values form scaled form**"
   ]
  },
  {
   "cell_type": "code",
   "execution_count": 174,
   "metadata": {
    "id": "HhdQMngtyUvw"
   },
   "outputs": [],
   "source": [
    "true_pred = scaler.inverse_transform(test_predictions)"
   ]
  },
  {
   "cell_type": "code",
   "execution_count": 175,
   "metadata": {
    "colab": {
     "base_uri": "https://localhost:8080/"
    },
    "id": "h2llyeKoyUyG",
    "outputId": "88f1088b-f7a7-4bd6-bf32-b972c7bc6b58"
   },
   "outputs": [
    {
     "data": {
      "text/plain": [
       "array([[ 88.97736403],\n",
       "       [ 82.01602661],\n",
       "       [ 81.38839853],\n",
       "       [ 89.74831554],\n",
       "       [101.74635744],\n",
       "       [112.40599003],\n",
       "       [119.75364335],\n",
       "       [124.83375632],\n",
       "       [125.33138843],\n",
       "       [119.85899664],\n",
       "       [109.17111083],\n",
       "       [ 94.9903784 ],\n",
       "       [ 81.54527481],\n",
       "       [ 73.00075389],\n",
       "       [ 72.69777865],\n",
       "       [ 80.85459541],\n",
       "       [ 93.7704859 ],\n",
       "       [105.72396362],\n",
       "       [114.90309703],\n",
       "       [121.31107866],\n",
       "       [123.71673358],\n",
       "       [119.73572177],\n",
       "       [109.39874721],\n",
       "       [ 94.84510832]])"
      ]
     },
     "execution_count": 175,
     "metadata": {},
     "output_type": "execute_result"
    }
   ],
   "source": [
    "true_pred"
   ]
  },
  {
   "cell_type": "code",
   "execution_count": 176,
   "metadata": {
    "colab": {
     "base_uri": "https://localhost:8080/",
     "height": 639
    },
    "id": "HVugIcTrxOkB",
    "outputId": "643b3bde-9295-46e8-ba4a-26a32777af76"
   },
   "outputs": [
    {
     "data": {
      "text/plain": [
       "<AxesSubplot:xlabel='DATE'>"
      ]
     },
     "execution_count": 176,
     "metadata": {},
     "output_type": "execute_result"
    },
    {
     "data": {
      "image/png": "[encoded data removed]",
      "text/plain": [
       "<Figure size 864x576 with 1 Axes>"
      ]
     },
     "metadata": {
      "needs_background": "light"
     },
     "output_type": "display_data"
    }
   ],
   "source": [
    "#Connecting this col with test so that it can be plotted\n",
    "test['predictions'] = true_pred\n",
    "test.plot(figsize=  (12,8))\n"
   ]
  },
  {
   "cell_type": "markdown",
   "metadata": {
    "id": "BCEMPlNX1Rqr"
   },
   "source": [
    "# Future Trends Predictions"
   ]
  },
  {
   "cell_type": "markdown",
   "metadata": {
    "id": "1ENlLgun1wCj"
   },
   "source": [
    "**Retrain data on Full Dataframe**"
   ]
  },
  {
   "cell_type": "code",
   "execution_count": 177,
   "metadata": {
    "id": "57Jzpi4C1sCt"
   },
   "outputs": [],
   "source": [
    "#creating full scaled dataframe\n",
    "scaler.fit(df)\n",
    "full_scaled = scaler.transform(df)"
   ]
  },
  {
   "cell_type": "code",
   "execution_count": 178,
   "metadata": {
    "id": "VYd1Kf7B1sFB"
   },
   "outputs": [],
   "source": [
    "#Generator for fullscaled data\n",
    "full_scaled_generator = TimeseriesGenerator(full_scaled,full_scaled,length = length , batch_size=1)"
   ]
  },
  {
   "cell_type": "code",
   "execution_count": 179,
   "metadata": {
    "id": "NdfsipsK1sHK"
   },
   "outputs": [],
   "source": [
    "#Training using above tested configurations\n",
    "n_features = 1    #predicting how many features for timeseries(here it is one)\n",
    "\n",
    "model = Sequential()\n",
    "\n",
    "model.add(LSTM(units= 128 , activation='relu' , input_shape=(length,n_features)))\n",
    "\n",
    "model.add(Dense(32 , activation='elu' ))\n",
    "#output\n",
    "model.add(Dense(1))        #Taking one batch of data as output\n"
   ]
  },
  {
   "cell_type": "code",
   "execution_count": 180,
   "metadata": {
    "id": "EOUh9XEp1sJc"
   },
   "outputs": [],
   "source": [
    "model.compile(optimizer='adam', loss='mse')"
   ]
  },
  {
   "cell_type": "code",
   "execution_count": 181,
   "metadata": {
    "colab": {
     "base_uri": "https://localhost:8080/"
    },
    "id": "wzizZSfv1sMC",
    "outputId": "7f7a364a-f02f-4cd0-a84d-76c53a5360af"
   },
   "outputs": [
    {
     "name": "stdout",
     "output_type": "stream",
     "text": [
      "Epoch 1/8\n",
      "561/561 [==============================] - 2s 3ms/step - loss: 0.0151\n",
      "Epoch 2/8\n",
      "561/561 [==============================] - 1s 3ms/step - loss: 0.0048\n",
      "Epoch 3/8\n",
      "561/561 [==============================] - 2s 3ms/step - loss: 0.0036\n",
      "Epoch 4/8\n",
      "561/561 [==============================] - 1s 3ms/step - loss: 0.0035\n",
      "Epoch 5/8\n",
      "561/561 [==============================] - 2s 3ms/step - loss: 0.0033\n",
      "Epoch 6/8\n",
      "561/561 [==============================] - 2s 3ms/step - loss: 0.0032\n",
      "Epoch 7/8\n",
      "561/561 [==============================] - 2s 3ms/step - loss: 0.0036\n",
      "Epoch 8/8\n",
      "561/561 [==============================] - 1s 3ms/step - loss: 0.0038\n"
     ]
    },
    {
     "data": {
      "text/plain": [
       "<tensorflow.python.keras.callbacks.History at 0x27170e38e50>"
      ]
     },
     "execution_count": 181,
     "metadata": {},
     "output_type": "execute_result"
    }
   ],
   "source": [
    "model.fit(full_scaled_generator , epochs=8  )"
   ]
  },
  {
   "cell_type": "code",
   "execution_count": 182,
   "metadata": {
    "id": "ey6ogaor1sOa"
   },
   "outputs": [],
   "source": [
    "#Future Predictions making\n",
    "\n",
    "forecasting  = []\n",
    "\n",
    "#take last no of lenght (18) values from train-scaled to forecast future\n",
    "first_eval_batch = train_scaler[-length:]\n",
    "#reshape it in form in which we trained our data input shape\n",
    "current_batch = first_eval_batch.reshape((1,length,n_features))\n",
    "\n",
    "#creating loop which predicts future values then from array delete last value\n",
    "#append the predicted value at top and run for no of instances in test data\n",
    "#wil run for 18 values\n",
    "for i in range(12):  \n",
    "  #getting prediction on current batch\n",
    "  current_pred = model.predict(current_batch)[0]\n",
    "  #appending predictions in array\n",
    "  forecasting.append(current_pred)\n",
    "\n",
    "  #remove last length dimension value form batch anda add predictins at the top\n",
    "  current_batch = np.append(current_batch[:,1:,:],[[current_pred]],axis=1  )\n",
    "\n",
    "\n",
    "\n"
   ]
  },
  {
   "cell_type": "code",
   "execution_count": 183,
   "metadata": {
    "colab": {
     "base_uri": "https://localhost:8080/"
    },
    "id": "GNYKM0kj1sRB",
    "outputId": "b4e3c81a-b2cc-49fc-a138-1f0179fde29d"
   },
   "outputs": [
    {
     "data": {
      "text/plain": [
       "[array([0.22958687], dtype=float32),\n",
       " array([0.19388323], dtype=float32),\n",
       " array([0.21860729], dtype=float32),\n",
       " array([0.29630482], dtype=float32),\n",
       " array([0.37967637], dtype=float32),\n",
       " array([0.44210997], dtype=float32),\n",
       " array([0.4899421], dtype=float32),\n",
       " array([0.5150622], dtype=float32),\n",
       " array([0.51524395], dtype=float32),\n",
       " array([0.4568123], dtype=float32),\n",
       " array([0.36215335], dtype=float32),\n",
       " array([0.2550357], dtype=float32)]"
      ]
     },
     "execution_count": 183,
     "metadata": {},
     "output_type": "execute_result"
    }
   ],
   "source": [
    "forecasting"
   ]
  },
  {
   "cell_type": "code",
   "execution_count": 184,
   "metadata": {
    "id": "U88zrM481sTf"
   },
   "outputs": [],
   "source": [
    "#Inverse scale\n",
    "true_full_pred = scaler.inverse_transform(forecasting)"
   ]
  },
  {
   "cell_type": "markdown",
   "metadata": {
    "id": "-gY4wIh43drM"
   },
   "source": [
    "**Creating Index for our forecasts**"
   ]
  },
  {
   "cell_type": "code",
   "execution_count": 185,
   "metadata": {
    "colab": {
     "base_uri": "https://localhost:8080/",
     "height": 237
    },
    "id": "75eOPsKa3vrs",
    "outputId": "bb1fd279-a66f-4da2-a05e-52b8b963c8eb"
   },
   "outputs": [
    {
     "data": {
      "text/html": [
       "<div>\n",
       "<style scoped>\n",
       "    .dataframe tbody tr th:only-of-type {\n",
       "        vertical-align: middle;\n",
       "    }\n",
       "\n",
       "    .dataframe tbody tr th {\n",
       "        vertical-align: top;\n",
       "    }\n",
       "\n",
       "    .dataframe thead th {\n",
       "        text-align: right;\n",
       "    }\n",
       "</style>\n",
       "<table border=\"1\" class=\"dataframe\">\n",
       "  <thead>\n",
       "    <tr style=\"text-align: right;\">\n",
       "      <th></th>\n",
       "      <th>Sale</th>\n",
       "    </tr>\n",
       "    <tr>\n",
       "      <th>DATE</th>\n",
       "      <th></th>\n",
       "    </tr>\n",
       "  </thead>\n",
       "  <tbody>\n",
       "    <tr>\n",
       "      <th>2019-05-01</th>\n",
       "      <td>114.5613</td>\n",
       "    </tr>\n",
       "    <tr>\n",
       "      <th>2019-06-01</th>\n",
       "      <td>124.9605</td>\n",
       "    </tr>\n",
       "    <tr>\n",
       "      <th>2019-07-01</th>\n",
       "      <td>110.2632</td>\n",
       "    </tr>\n",
       "    <tr>\n",
       "      <th>2019-08-01</th>\n",
       "      <td>102.6085</td>\n",
       "    </tr>\n",
       "    <tr>\n",
       "      <th>2019-09-01</th>\n",
       "      <td>101.5866</td>\n",
       "    </tr>\n",
       "  </tbody>\n",
       "</table>\n",
       "</div>"
      ],
      "text/plain": [
       "                Sale\n",
       "DATE                \n",
       "2019-05-01  114.5613\n",
       "2019-06-01  124.9605\n",
       "2019-07-01  110.2632\n",
       "2019-08-01  102.6085\n",
       "2019-09-01  101.5866"
      ]
     },
     "execution_count": 185,
     "metadata": {},
     "output_type": "execute_result"
    }
   ],
   "source": [
    "df.tail()"
   ]
  },
  {
   "cell_type": "code",
   "execution_count": 186,
   "metadata": {
    "id": "9ltdNc1_1sdW"
   },
   "outputs": [],
   "source": [
    "#using pandas timeseries\n",
    "forecast_index = pd.date_range('2019-10-01' , periods = 12 , freq = 'MS')"
   ]
  },
  {
   "cell_type": "code",
   "execution_count": 187,
   "metadata": {
    "colab": {
     "base_uri": "https://localhost:8080/"
    },
    "id": "u4PgBrY31siz",
    "outputId": "7f8a6716-3454-4650-d2ee-10a63f2d5b92"
   },
   "outputs": [
    {
     "data": {
      "text/plain": [
       "DatetimeIndex(['2019-10-01', '2019-11-01', '2019-12-01', '2020-01-01',\n",
       "               '2020-02-01', '2020-03-01', '2020-04-01', '2020-05-01',\n",
       "               '2020-06-01', '2020-07-01', '2020-08-01', '2020-09-01'],\n",
       "              dtype='datetime64[ns]', freq='MS')"
      ]
     },
     "execution_count": 187,
     "metadata": {},
     "output_type": "execute_result"
    }
   ],
   "source": [
    "forecast_index"
   ]
  },
  {
   "cell_type": "code",
   "execution_count": 188,
   "metadata": {
    "id": "1a9QoVQzxrXh"
   },
   "outputs": [],
   "source": [
    "#Append it with actual forecasts\n",
    "forecasts = pd.DataFrame(true_full_pred , index =  forecast_index ,columns=['Forecasts'] )"
   ]
  },
  {
   "cell_type": "code",
   "execution_count": 189,
   "metadata": {
    "colab": {
     "base_uri": "https://localhost:8080/",
     "height": 426
    },
    "id": "FYUHfGM01niP",
    "outputId": "ab9e24c5-7ad4-47d0-97b1-1fbc38a7a779"
   },
   "outputs": [
    {
     "data": {
      "text/html": [
       "<div>\n",
       "<style scoped>\n",
       "    .dataframe tbody tr th:only-of-type {\n",
       "        vertical-align: middle;\n",
       "    }\n",
       "\n",
       "    .dataframe tbody tr th {\n",
       "        vertical-align: top;\n",
       "    }\n",
       "\n",
       "    .dataframe thead th {\n",
       "        text-align: right;\n",
       "    }\n",
       "</style>\n",
       "<table border=\"1\" class=\"dataframe\">\n",
       "  <thead>\n",
       "    <tr style=\"text-align: right;\">\n",
       "      <th></th>\n",
       "      <th>Forecasts</th>\n",
       "    </tr>\n",
       "  </thead>\n",
       "  <tbody>\n",
       "    <tr>\n",
       "      <th>2019-10-01</th>\n",
       "      <td>90.231186</td>\n",
       "    </tr>\n",
       "    <tr>\n",
       "      <th>2019-11-01</th>\n",
       "      <td>85.321438</td>\n",
       "    </tr>\n",
       "    <tr>\n",
       "      <th>2019-12-01</th>\n",
       "      <td>88.721341</td>\n",
       "    </tr>\n",
       "    <tr>\n",
       "      <th>2020-01-01</th>\n",
       "      <td>99.405832</td>\n",
       "    </tr>\n",
       "    <tr>\n",
       "      <th>2020-02-01</th>\n",
       "      <td>110.870579</td>\n",
       "    </tr>\n",
       "    <tr>\n",
       "      <th>2020-03-01</th>\n",
       "      <td>119.456067</td>\n",
       "    </tr>\n",
       "    <tr>\n",
       "      <th>2020-04-01</th>\n",
       "      <td>126.033649</td>\n",
       "    </tr>\n",
       "    <tr>\n",
       "      <th>2020-05-01</th>\n",
       "      <td>129.488014</td>\n",
       "    </tr>\n",
       "    <tr>\n",
       "      <th>2020-06-01</th>\n",
       "      <td>129.513005</td>\n",
       "    </tr>\n",
       "    <tr>\n",
       "      <th>2020-07-01</th>\n",
       "      <td>121.477840</td>\n",
       "    </tr>\n",
       "    <tr>\n",
       "      <th>2020-08-01</th>\n",
       "      <td>108.460920</td>\n",
       "    </tr>\n",
       "    <tr>\n",
       "      <th>2020-09-01</th>\n",
       "      <td>93.730754</td>\n",
       "    </tr>\n",
       "  </tbody>\n",
       "</table>\n",
       "</div>"
      ],
      "text/plain": [
       "             Forecasts\n",
       "2019-10-01   90.231186\n",
       "2019-11-01   85.321438\n",
       "2019-12-01   88.721341\n",
       "2020-01-01   99.405832\n",
       "2020-02-01  110.870579\n",
       "2020-03-01  119.456067\n",
       "2020-04-01  126.033649\n",
       "2020-05-01  129.488014\n",
       "2020-06-01  129.513005\n",
       "2020-07-01  121.477840\n",
       "2020-08-01  108.460920\n",
       "2020-09-01   93.730754"
      ]
     },
     "execution_count": 189,
     "metadata": {},
     "output_type": "execute_result"
    }
   ],
   "source": [
    "#Our FUTURE FORECAST variable\n",
    "forecasts"
   ]
  },
  {
   "cell_type": "code",
   "execution_count": 190,
   "metadata": {
    "colab": {
     "base_uri": "https://localhost:8080/",
     "height": 513
    },
    "id": "WcMXG99S4wv9",
    "outputId": "935bfa68-5dca-4402-dfd2-535cb2ee1203"
   },
   "outputs": [
    {
     "data": {
      "text/plain": [
       "<AxesSubplot:>"
      ]
     },
     "execution_count": 190,
     "metadata": {},
     "output_type": "execute_result"
    },
    {
     "data": {
      "image/png": "[encoded data removed]",
      "text/plain": [
       "<Figure size 864x576 with 1 Axes>"
      ]
     },
     "metadata": {
      "needs_background": "light"
     },
     "output_type": "display_data"
    }
   ],
   "source": [
    "forecasts.plot(figsize = (12,8))"
   ]
  },
  {
   "cell_type": "code",
   "execution_count": 191,
   "metadata": {
    "colab": {
     "base_uri": "https://localhost:8080/",
     "height": 516
    },
    "id": "tP5BRhJt45dN",
    "outputId": "ac5fa658-cb90-40df-d240-3e94d0a49d1a"
   },
   "outputs": [
    {
     "data": {
      "text/plain": [
       "<AxesSubplot:xlabel='DATE'>"
      ]
     },
     "execution_count": 191,
     "metadata": {},
     "output_type": "execute_result"
    },
    {
     "data": {
      "image/png": "[encoded data removed]",
      "text/plain": [
       "<Figure size 864x576 with 1 Axes>"
      ]
     },
     "metadata": {
      "needs_background": "light"
     },
     "output_type": "display_data"
    }
   ],
   "source": [
    "df.plot(figsize = (12,8))"
   ]
  },
  {
   "cell_type": "markdown",
   "metadata": {
    "id": "fEoWFuu74_t7"
   },
   "source": [
    "# Forecast"
   ]
  },
  {
   "cell_type": "code",
   "execution_count": 192,
   "metadata": {
    "colab": {
     "base_uri": "https://localhost:8080/",
     "height": 407
    },
    "id": "a84MSkif475g",
    "outputId": "27c3502b-7047-415c-c065-c644fa1cc295"
   },
   "outputs": [
    {
     "data": {
      "text/plain": [
       "<AxesSubplot:xlabel='DATE'>"
      ]
     },
     "execution_count": 192,
     "metadata": {},
     "output_type": "execute_result"
    },
    {
     "data": {
      "image/png": "[encoded data removed]",
      "text/plain": [
       "<Figure size 1296x432 with 1 Axes>"
      ]
     },
     "metadata": {
      "needs_background": "light"
     },
     "output_type": "display_data"
    }
   ],
   "source": [
    "ax = df.plot()\n",
    "forecasts.plot(ax = ax , figsize = (18,6))"
   ]
  },
  {
   "cell_type": "code",
   "execution_count": 193,
   "metadata": {
    "colab": {
     "base_uri": "https://localhost:8080/"
    },
    "id": "mOXalRlAAwpX",
    "outputId": "b418083a-246d-4dd3-a29c-1db99a520319"
   },
   "outputs": [
    {
     "data": {
      "text/plain": [
       "585"
      ]
     },
     "execution_count": 193,
     "metadata": {},
     "output_type": "execute_result"
    }
   ],
   "source": [
    "#Concatting in one column\n",
    "#name should be same\n",
    "forecasts.columns = ['Sale']\n",
    "\n",
    "concatted_df = pd.concat([df ,forecasts] )\n",
    "len(concatted_df)"
   ]
  },
  {
   "cell_type": "code",
   "execution_count": 194,
   "metadata": {
    "colab": {
     "base_uri": "https://localhost:8080/",
     "height": 424
    },
    "id": "101CEYkhCzMY",
    "outputId": "ba744cef-7e87-4fd4-c84a-9fffa219e9e8"
   },
   "outputs": [
    {
     "data": {
      "text/html": [
       "<div>\n",
       "<style scoped>\n",
       "    .dataframe tbody tr th:only-of-type {\n",
       "        vertical-align: middle;\n",
       "    }\n",
       "\n",
       "    .dataframe tbody tr th {\n",
       "        vertical-align: top;\n",
       "    }\n",
       "\n",
       "    .dataframe thead th {\n",
       "        text-align: right;\n",
       "    }\n",
       "</style>\n",
       "<table border=\"1\" class=\"dataframe\">\n",
       "  <thead>\n",
       "    <tr style=\"text-align: right;\">\n",
       "      <th></th>\n",
       "      <th>Sale</th>\n",
       "    </tr>\n",
       "  </thead>\n",
       "  <tbody>\n",
       "    <tr>\n",
       "      <th>1972-01-01</th>\n",
       "      <td>59.962200</td>\n",
       "    </tr>\n",
       "    <tr>\n",
       "      <th>1972-02-01</th>\n",
       "      <td>67.060500</td>\n",
       "    </tr>\n",
       "    <tr>\n",
       "      <th>1972-03-01</th>\n",
       "      <td>74.235000</td>\n",
       "    </tr>\n",
       "    <tr>\n",
       "      <th>1972-04-01</th>\n",
       "      <td>78.112000</td>\n",
       "    </tr>\n",
       "    <tr>\n",
       "      <th>1972-05-01</th>\n",
       "      <td>84.763600</td>\n",
       "    </tr>\n",
       "    <tr>\n",
       "      <th>...</th>\n",
       "      <td>...</td>\n",
       "    </tr>\n",
       "    <tr>\n",
       "      <th>2020-05-01</th>\n",
       "      <td>129.488014</td>\n",
       "    </tr>\n",
       "    <tr>\n",
       "      <th>2020-06-01</th>\n",
       "      <td>129.513005</td>\n",
       "    </tr>\n",
       "    <tr>\n",
       "      <th>2020-07-01</th>\n",
       "      <td>121.477840</td>\n",
       "    </tr>\n",
       "    <tr>\n",
       "      <th>2020-08-01</th>\n",
       "      <td>108.460920</td>\n",
       "    </tr>\n",
       "    <tr>\n",
       "      <th>2020-09-01</th>\n",
       "      <td>93.730754</td>\n",
       "    </tr>\n",
       "  </tbody>\n",
       "</table>\n",
       "<p>585 rows × 1 columns</p>\n",
       "</div>"
      ],
      "text/plain": [
       "                  Sale\n",
       "1972-01-01   59.962200\n",
       "1972-02-01   67.060500\n",
       "1972-03-01   74.235000\n",
       "1972-04-01   78.112000\n",
       "1972-05-01   84.763600\n",
       "...                ...\n",
       "2020-05-01  129.488014\n",
       "2020-06-01  129.513005\n",
       "2020-07-01  121.477840\n",
       "2020-08-01  108.460920\n",
       "2020-09-01   93.730754\n",
       "\n",
       "[585 rows x 1 columns]"
      ]
     },
     "execution_count": 194,
     "metadata": {},
     "output_type": "execute_result"
    }
   ],
   "source": [
    "concatted_df"
   ]
  },
  {
   "cell_type": "code",
   "execution_count": 195,
   "metadata": {
    "colab": {
     "base_uri": "https://localhost:8080/",
     "height": 17
    },
    "id": "M8TqRudFAb0q",
    "outputId": "609d6d19-65dc-4d82-b11a-699eaf9d1965"
   },
   "outputs": [
    {
     "data": {
      "text/html": [
       "        <script type=\"text/javascript\">\n",
       "        window.PlotlyConfig = {MathJaxConfig: 'local'};\n",
       "        if (window.MathJax) {MathJax.Hub.Config({SVG: {font: \"STIX-Web\"}});}\n",
       "        if (typeof require !== 'undefined') {\n",
       "        require.undef(\"plotly\");\n",
       "        requirejs.config({\n",
       "            paths: {\n",
       "                'plotly': ['https://cdn.plot.ly/plotly-latest.min']\n",
       "            }\n",
       "        });\n",
       "        require(['plotly'], function(Plotly) {\n",
       "            window._Plotly = Plotly;\n",
       "        });\n",
       "        }\n",
       "        </script>\n",
       "        "
      ]
     },
     "metadata": {},
     "output_type": "display_data"
    }
   ],
   "source": [
    "#plotly and cufflinks configuration and imports\n",
    "import plotly.express as px\n",
    "from plotly import graph_objs as go\n",
    "import plotly.figure_factory as ff\n",
    "from plotly.subplots import make_subplots\n",
    "\n",
    "#plotly offline configure\n",
    "import plotly as py\n",
    "py.offline.init_notebook_mode(connected=True)"
   ]
  },
  {
   "cell_type": "code",
   "execution_count": 196,
   "metadata": {
    "colab": {
     "base_uri": "https://localhost:8080/",
     "height": 542
    },
    "id": "9Rq51MoCFYxm",
    "outputId": "46560364-915f-4169-8c6b-f480b0f2e487"
   },
   "outputs": [
    {
     "data": {
      "application/vnd.plotly.v1+json": {
       "config": {
        "plotlyServerURL": "https://plot.ly"
       },
       "data": [
        {
         "hoverlabel": {
          "namelength": 0
         },
         "hovertemplate": "x=%{x}<br>Sale=%{y}",
         "legendgroup": "",
         "line": {
          "color": "rgb(229, 134, 6)",
          "dash": "solid"
         },
         "mode": "lines",
         "name": "",
         "showlegend": false,
         "type": "scatter",
         "x": [
          "1972-01-01T00:00:00",
          "1972-02-01T00:00:00",
          "1972-03-01T00:00:00",
          "1972-04-01T00:00:00",
          "1972-05-01T00:00:00",
          "1972-06-01T00:00:00",
          "1972-07-01T00:00:00",
          "1972-08-01T00:00:00",
          "1972-09-01T00:00:00",
          "1972-10-01T00:00:00",
          "1972-11-01T00:00:00",
          "1972-12-01T00:00:00",
          "1973-01-01T00:00:00",
          "1973-02-01T00:00:00",
          "1973-03-01T00:00:00",
          "1973-04-01T00:00:00",
          "1973-05-01T00:00:00",
          "1973-06-01T00:00:00",
          "1973-07-01T00:00:00",
          "1973-08-01T00:00:00",
          "1973-09-01T00:00:00",
          "1973-10-01T00:00:00",
          "1973-11-01T00:00:00",
          "1973-12-01T00:00:00",
          "1974-01-01T00:00:00",
          "1974-02-01T00:00:00",
          "1974-03-01T00:00:00",
          "1974-04-01T00:00:00",
          "1974-05-01T00:00:00",
          "1974-06-01T00:00:00",
          "1974-07-01T00:00:00",
          "1974-08-01T00:00:00",
          "1974-09-01T00:00:00",
          "1974-10-01T00:00:00",
          "1974-11-01T00:00:00",
          "1974-12-01T00:00:00",
          "1975-01-01T00:00:00",
          "1975-02-01T00:00:00",
          "1975-03-01T00:00:00",
          "1975-04-01T00:00:00",
          "1975-05-01T00:00:00",
          "1975-06-01T00:00:00",
          "1975-07-01T00:00:00",
          "1975-08-01T00:00:00",
          "1975-09-01T00:00:00",
          "1975-10-01T00:00:00",
          "1975-11-01T00:00:00",
          "1975-12-01T00:00:00",
          "1976-01-01T00:00:00",
          "1976-02-01T00:00:00",
          "1976-03-01T00:00:00",
          "1976-04-01T00:00:00",
          "1976-05-01T00:00:00",
          "1976-06-01T00:00:00",
          "1976-07-01T00:00:00",
          "1976-08-01T00:00:00",
          "1976-09-01T00:00:00",
          "1976-10-01T00:00:00",
          "1976-11-01T00:00:00",
          "1976-12-01T00:00:00",
          "1977-01-01T00:00:00",
          "1977-02-01T00:00:00",
          "1977-03-01T00:00:00",
          "1977-04-01T00:00:00",
          "1977-05-01T00:00:00",
          "1977-06-01T00:00:00",
          "1977-07-01T00:00:00",
          "1977-08-01T00:00:00",
          "1977-09-01T00:00:00",
          "1977-10-01T00:00:00",
          "1977-11-01T00:00:00",
          "1977-12-01T00:00:00",
          "1978-01-01T00:00:00",
          "1978-02-01T00:00:00",
          "1978-03-01T00:00:00",
          "1978-04-01T00:00:00",
          "1978-05-01T00:00:00",
          "1978-06-01T00:00:00",
          "1978-07-01T00:00:00",
          "1978-08-01T00:00:00",
          "1978-09-01T00:00:00",
          "1978-10-01T00:00:00",
          "1978-11-01T00:00:00",
          "1978-12-01T00:00:00",
          "1979-01-01T00:00:00",
          "1979-02-01T00:00:00",
          "1979-03-01T00:00:00",
          "1979-04-01T00:00:00",
          "1979-05-01T00:00:00",
          "1979-06-01T00:00:00",
          "1979-07-01T00:00:00",
          "1979-08-01T00:00:00",
          "1979-09-01T00:00:00",
          "1979-10-01T00:00:00",
          "1979-11-01T00:00:00",
          "1979-12-01T00:00:00",
          "1980-01-01T00:00:00",
          "1980-02-01T00:00:00",
          "1980-03-01T00:00:00",
          "1980-04-01T00:00:00",
          "1980-05-01T00:00:00",
          "1980-06-01T00:00:00",
          "1980-07-01T00:00:00",
          "1980-08-01T00:00:00",
          "1980-09-01T00:00:00",
          "1980-10-01T00:00:00",
          "1980-11-01T00:00:00",
          "1980-12-01T00:00:00",
          "1981-01-01T00:00:00",
          "1981-02-01T00:00:00",
          "1981-03-01T00:00:00",
          "1981-04-01T00:00:00",
          "1981-05-01T00:00:00",
          "1981-06-01T00:00:00",
          "1981-07-01T00:00:00",
          "1981-08-01T00:00:00",
          "1981-09-01T00:00:00",
          "1981-10-01T00:00:00",
          "1981-11-01T00:00:00",
          "1981-12-01T00:00:00",
          "1982-01-01T00:00:00",
          "1982-02-01T00:00:00",
          "1982-03-01T00:00:00",
          "1982-04-01T00:00:00",
          "1982-05-01T00:00:00",
          "1982-06-01T00:00:00",
          "1982-07-01T00:00:00",
          "1982-08-01T00:00:00",
          "1982-09-01T00:00:00",
          "1982-10-01T00:00:00",
          "1982-11-01T00:00:00",
          "1982-12-01T00:00:00",
          "1983-01-01T00:00:00",
          "1983-02-01T00:00:00",
          "1983-03-01T00:00:00",
          "1983-04-01T00:00:00",
          "1983-05-01T00:00:00",
          "1983-06-01T00:00:00",
          "1983-07-01T00:00:00",
          "1983-08-01T00:00:00",
          "1983-09-01T00:00:00",
          "1983-10-01T00:00:00",
          "1983-11-01T00:00:00",
          "1983-12-01T00:00:00",
          "1984-01-01T00:00:00",
          "1984-02-01T00:00:00",
          "1984-03-01T00:00:00",
          "1984-04-01T00:00:00",
          "1984-05-01T00:00:00",
          "1984-06-01T00:00:00",
          "1984-07-01T00:00:00",
          "1984-08-01T00:00:00",
          "1984-09-01T00:00:00",
          "1984-10-01T00:00:00",
          "1984-11-01T00:00:00",
          "1984-12-01T00:00:00",
          "1985-01-01T00:00:00",
          "1985-02-01T00:00:00",
          "1985-03-01T00:00:00",
          "1985-04-01T00:00:00",
          "1985-05-01T00:00:00",
          "1985-06-01T00:00:00",
          "1985-07-01T00:00:00",
          "1985-08-01T00:00:00",
          "1985-09-01T00:00:00",
          "1985-10-01T00:00:00",
          "1985-11-01T00:00:00",
          "1985-12-01T00:00:00",
          "1986-01-01T00:00:00",
          "1986-02-01T00:00:00",
          "1986-03-01T00:00:00",
          "1986-04-01T00:00:00",
          "1986-05-01T00:00:00",
          "1986-06-01T00:00:00",
          "1986-07-01T00:00:00",
          "1986-08-01T00:00:00",
          "1986-09-01T00:00:00",
          "1986-10-01T00:00:00",
          "1986-11-01T00:00:00",
          "1986-12-01T00:00:00",
          "1987-01-01T00:00:00",
          "1987-02-01T00:00:00",
          "1987-03-01T00:00:00",
          "1987-04-01T00:00:00",
          "1987-05-01T00:00:00",
          "1987-06-01T00:00:00",
          "1987-07-01T00:00:00",
          "1987-08-01T00:00:00",
          "1987-09-01T00:00:00",
          "1987-10-01T00:00:00",
          "1987-11-01T00:00:00",
          "1987-12-01T00:00:00",
          "1988-01-01T00:00:00",
          "1988-02-01T00:00:00",
          "1988-03-01T00:00:00",
          "1988-04-01T00:00:00",
          "1988-05-01T00:00:00",
          "1988-06-01T00:00:00",
          "1988-07-01T00:00:00",
          "1988-08-01T00:00:00",
          "1988-09-01T00:00:00",
          "1988-10-01T00:00:00",
          "1988-11-01T00:00:00",
          "1988-12-01T00:00:00",
          "1989-01-01T00:00:00",
          "1989-02-01T00:00:00",
          "1989-03-01T00:00:00",
          "1989-04-01T00:00:00",
          "1989-05-01T00:00:00",
          "1989-06-01T00:00:00",
          "1989-07-01T00:00:00",
          "1989-08-01T00:00:00",
          "1989-09-01T00:00:00",
          "1989-10-01T00:00:00",
          "1989-11-01T00:00:00",
          "1989-12-01T00:00:00",
          "1990-01-01T00:00:00",
          "1990-02-01T00:00:00",
          "1990-03-01T00:00:00",
          "1990-04-01T00:00:00",
          "1990-05-01T00:00:00",
          "1990-06-01T00:00:00",
          "1990-07-01T00:00:00",
          "1990-08-01T00:00:00",
          "1990-09-01T00:00:00",
          "1990-10-01T00:00:00",
          "1990-11-01T00:00:00",
          "1990-12-01T00:00:00",
          "1991-01-01T00:00:00",
          "1991-02-01T00:00:00",
          "1991-03-01T00:00:00",
          "1991-04-01T00:00:00",
          "1991-05-01T00:00:00",
          "1991-06-01T00:00:00",
          "1991-07-01T00:00:00",
          "1991-08-01T00:00:00",
          "1991-09-01T00:00:00",
          "1991-10-01T00:00:00",
          "1991-11-01T00:00:00",
          "1991-12-01T00:00:00",
          "1992-01-01T00:00:00",
          "1992-02-01T00:00:00",
          "1992-03-01T00:00:00",
          "1992-04-01T00:00:00",
          "1992-05-01T00:00:00",
          "1992-06-01T00:00:00",
          "1992-07-01T00:00:00",
          "1992-08-01T00:00:00",
          "1992-09-01T00:00:00",
          "1992-10-01T00:00:00",
          "1992-11-01T00:00:00",
          "1992-12-01T00:00:00",
          "1993-01-01T00:00:00",
          "1993-02-01T00:00:00",
          "1993-03-01T00:00:00",
          "1993-04-01T00:00:00",
          "1993-05-01T00:00:00",
          "1993-06-01T00:00:00",
          "1993-07-01T00:00:00",
          "1993-08-01T00:00:00",
          "1993-09-01T00:00:00",
          "1993-10-01T00:00:00",
          "1993-11-01T00:00:00",
          "1993-12-01T00:00:00",
          "1994-01-01T00:00:00",
          "1994-02-01T00:00:00",
          "1994-03-01T00:00:00",
          "1994-04-01T00:00:00",
          "1994-05-01T00:00:00",
          "1994-06-01T00:00:00",
          "1994-07-01T00:00:00",
          "1994-08-01T00:00:00",
          "1994-09-01T00:00:00",
          "1994-10-01T00:00:00",
          "1994-11-01T00:00:00",
          "1994-12-01T00:00:00",
          "1995-01-01T00:00:00",
          "1995-02-01T00:00:00",
          "1995-03-01T00:00:00",
          "1995-04-01T00:00:00",
          "1995-05-01T00:00:00",
          "1995-06-01T00:00:00",
          "1995-07-01T00:00:00",
          "1995-08-01T00:00:00",
          "1995-09-01T00:00:00",
          "1995-10-01T00:00:00",
          "1995-11-01T00:00:00",
          "1995-12-01T00:00:00",
          "1996-01-01T00:00:00",
          "1996-02-01T00:00:00",
          "1996-03-01T00:00:00",
          "1996-04-01T00:00:00",
          "1996-05-01T00:00:00",
          "1996-06-01T00:00:00",
          "1996-07-01T00:00:00",
          "1996-08-01T00:00:00",
          "1996-09-01T00:00:00",
          "1996-10-01T00:00:00",
          "1996-11-01T00:00:00",
          "1996-12-01T00:00:00",
          "1997-01-01T00:00:00",
          "1997-02-01T00:00:00",
          "1997-03-01T00:00:00",
          "1997-04-01T00:00:00",
          "1997-05-01T00:00:00",
          "1997-06-01T00:00:00",
          "1997-07-01T00:00:00",
          "1997-08-01T00:00:00",
          "1997-09-01T00:00:00",
          "1997-10-01T00:00:00",
          "1997-11-01T00:00:00",
          "1997-12-01T00:00:00",
          "1998-01-01T00:00:00",
          "1998-02-01T00:00:00",
          "1998-03-01T00:00:00",
          "1998-04-01T00:00:00",
          "1998-05-01T00:00:00",
          "1998-06-01T00:00:00",
          "1998-07-01T00:00:00",
          "1998-08-01T00:00:00",
          "1998-09-01T00:00:00",
          "1998-10-01T00:00:00",
          "1998-11-01T00:00:00",
          "1998-12-01T00:00:00",
          "1999-01-01T00:00:00",
          "1999-02-01T00:00:00",
          "1999-03-01T00:00:00",
          "1999-04-01T00:00:00",
          "1999-05-01T00:00:00",
          "1999-06-01T00:00:00",
          "1999-07-01T00:00:00",
          "1999-08-01T00:00:00",
          "1999-09-01T00:00:00",
          "1999-10-01T00:00:00",
          "1999-11-01T00:00:00",
          "1999-12-01T00:00:00",
          "2000-01-01T00:00:00",
          "2000-02-01T00:00:00",
          "2000-03-01T00:00:00",
          "2000-04-01T00:00:00",
          "2000-05-01T00:00:00",
          "2000-06-01T00:00:00",
          "2000-07-01T00:00:00",
          "2000-08-01T00:00:00",
          "2000-09-01T00:00:00",
          "2000-10-01T00:00:00",
          "2000-11-01T00:00:00",
          "2000-12-01T00:00:00",
          "2001-01-01T00:00:00",
          "2001-02-01T00:00:00",
          "2001-03-01T00:00:00",
          "2001-04-01T00:00:00",
          "2001-05-01T00:00:00",
          "2001-06-01T00:00:00",
          "2001-07-01T00:00:00",
          "2001-08-01T00:00:00",
          "2001-09-01T00:00:00",
          "2001-10-01T00:00:00",
          "2001-11-01T00:00:00",
          "2001-12-01T00:00:00",
          "2002-01-01T00:00:00",
          "2002-02-01T00:00:00",
          "2002-03-01T00:00:00",
          "2002-04-01T00:00:00",
          "2002-05-01T00:00:00",
          "2002-06-01T00:00:00",
          "2002-07-01T00:00:00",
          "2002-08-01T00:00:00",
          "2002-09-01T00:00:00",
          "2002-10-01T00:00:00",
          "2002-11-01T00:00:00",
          "2002-12-01T00:00:00",
          "2003-01-01T00:00:00",
          "2003-02-01T00:00:00",
          "2003-03-01T00:00:00",
          "2003-04-01T00:00:00",
          "2003-05-01T00:00:00",
          "2003-06-01T00:00:00",
          "2003-07-01T00:00:00",
          "2003-08-01T00:00:00",
          "2003-09-01T00:00:00",
          "2003-10-01T00:00:00",
          "2003-11-01T00:00:00",
          "2003-12-01T00:00:00",
          "2004-01-01T00:00:00",
          "2004-02-01T00:00:00",
          "2004-03-01T00:00:00",
          "2004-04-01T00:00:00",
          "2004-05-01T00:00:00",
          "2004-06-01T00:00:00",
          "2004-07-01T00:00:00",
          "2004-08-01T00:00:00",
          "2004-09-01T00:00:00",
          "2004-10-01T00:00:00",
          "2004-11-01T00:00:00",
          "2004-12-01T00:00:00",
          "2005-01-01T00:00:00",
          "2005-02-01T00:00:00",
          "2005-03-01T00:00:00",
          "2005-04-01T00:00:00",
          "2005-05-01T00:00:00",
          "2005-06-01T00:00:00",
          "2005-07-01T00:00:00",
          "2005-08-01T00:00:00",
          "2005-09-01T00:00:00",
          "2005-10-01T00:00:00",
          "2005-11-01T00:00:00",
          "2005-12-01T00:00:00",
          "2006-01-01T00:00:00",
          "2006-02-01T00:00:00",
          "2006-03-01T00:00:00",
          "2006-04-01T00:00:00",
          "2006-05-01T00:00:00",
          "2006-06-01T00:00:00",
          "2006-07-01T00:00:00",
          "2006-08-01T00:00:00",
          "2006-09-01T00:00:00",
          "2006-10-01T00:00:00",
          "2006-11-01T00:00:00",
          "2006-12-01T00:00:00",
          "2007-01-01T00:00:00",
          "2007-02-01T00:00:00",
          "2007-03-01T00:00:00",
          "2007-04-01T00:00:00",
          "2007-05-01T00:00:00",
          "2007-06-01T00:00:00",
          "2007-07-01T00:00:00",
          "2007-08-01T00:00:00",
          "2007-09-01T00:00:00",
          "2007-10-01T00:00:00",
          "2007-11-01T00:00:00",
          "2007-12-01T00:00:00",
          "2008-01-01T00:00:00",
          "2008-02-01T00:00:00",
          "2008-03-01T00:00:00",
          "2008-04-01T00:00:00",
          "2008-05-01T00:00:00",
          "2008-06-01T00:00:00",
          "2008-07-01T00:00:00",
          "2008-08-01T00:00:00",
          "2008-09-01T00:00:00",
          "2008-10-01T00:00:00",
          "2008-11-01T00:00:00",
          "2008-12-01T00:00:00",
          "2009-01-01T00:00:00",
          "2009-02-01T00:00:00",
          "2009-03-01T00:00:00",
          "2009-04-01T00:00:00",
          "2009-05-01T00:00:00",
          "2009-06-01T00:00:00",
          "2009-07-01T00:00:00",
          "2009-08-01T00:00:00",
          "2009-09-01T00:00:00",
          "2009-10-01T00:00:00",
          "2009-11-01T00:00:00",
          "2009-12-01T00:00:00",
          "2010-01-01T00:00:00",
          "2010-02-01T00:00:00",
          "2010-03-01T00:00:00",
          "2010-04-01T00:00:00",
          "2010-05-01T00:00:00",
          "2010-06-01T00:00:00",
          "2010-07-01T00:00:00",
          "2010-08-01T00:00:00",
          "2010-09-01T00:00:00",
          "2010-10-01T00:00:00",
          "2010-11-01T00:00:00",
          "2010-12-01T00:00:00",
          "2011-01-01T00:00:00",
          "2011-02-01T00:00:00",
          "2011-03-01T00:00:00",
          "2011-04-01T00:00:00",
          "2011-05-01T00:00:00",
          "2011-06-01T00:00:00",
          "2011-07-01T00:00:00",
          "2011-08-01T00:00:00",
          "2011-09-01T00:00:00",
          "2011-10-01T00:00:00",
          "2011-11-01T00:00:00",
          "2011-12-01T00:00:00",
          "2012-01-01T00:00:00",
          "2012-02-01T00:00:00",
          "2012-03-01T00:00:00",
          "2012-04-01T00:00:00",
          "2012-05-01T00:00:00",
          "2012-06-01T00:00:00",
          "2012-07-01T00:00:00",
          "2012-08-01T00:00:00",
          "2012-09-01T00:00:00",
          "2012-10-01T00:00:00",
          "2012-11-01T00:00:00",
          "2012-12-01T00:00:00",
          "2013-01-01T00:00:00",
          "2013-02-01T00:00:00",
          "2013-03-01T00:00:00",
          "2013-04-01T00:00:00",
          "2013-05-01T00:00:00",
          "2013-06-01T00:00:00",
          "2013-07-01T00:00:00",
          "2013-08-01T00:00:00",
          "2013-09-01T00:00:00",
          "2013-10-01T00:00:00",
          "2013-11-01T00:00:00",
          "2013-12-01T00:00:00",
          "2014-01-01T00:00:00",
          "2014-02-01T00:00:00",
          "2014-03-01T00:00:00",
          "2014-04-01T00:00:00",
          "2014-05-01T00:00:00",
          "2014-06-01T00:00:00",
          "2014-07-01T00:00:00",
          "2014-08-01T00:00:00",
          "2014-09-01T00:00:00",
          "2014-10-01T00:00:00",
          "2014-11-01T00:00:00",
          "2014-12-01T00:00:00",
          "2015-01-01T00:00:00",
          "2015-02-01T00:00:00",
          "2015-03-01T00:00:00",
          "2015-04-01T00:00:00",
          "2015-05-01T00:00:00",
          "2015-06-01T00:00:00",
          "2015-07-01T00:00:00",
          "2015-08-01T00:00:00",
          "2015-09-01T00:00:00",
          "2015-10-01T00:00:00",
          "2015-11-01T00:00:00",
          "2015-12-01T00:00:00",
          "2016-01-01T00:00:00",
          "2016-02-01T00:00:00",
          "2016-03-01T00:00:00",
          "2016-04-01T00:00:00",
          "2016-05-01T00:00:00",
          "2016-06-01T00:00:00",
          "2016-07-01T00:00:00",
          "2016-08-01T00:00:00",
          "2016-09-01T00:00:00",
          "2016-10-01T00:00:00",
          "2016-11-01T00:00:00",
          "2016-12-01T00:00:00",
          "2017-01-01T00:00:00",
          "2017-02-01T00:00:00",
          "2017-03-01T00:00:00",
          "2017-04-01T00:00:00",
          "2017-05-01T00:00:00",
          "2017-06-01T00:00:00",
          "2017-07-01T00:00:00",
          "2017-08-01T00:00:00",
          "2017-09-01T00:00:00",
          "2017-10-01T00:00:00",
          "2017-11-01T00:00:00",
          "2017-12-01T00:00:00",
          "2018-01-01T00:00:00",
          "2018-02-01T00:00:00",
          "2018-03-01T00:00:00",
          "2018-04-01T00:00:00",
          "2018-05-01T00:00:00",
          "2018-06-01T00:00:00",
          "2018-07-01T00:00:00",
          "2018-08-01T00:00:00",
          "2018-09-01T00:00:00",
          "2018-10-01T00:00:00",
          "2018-11-01T00:00:00",
          "2018-12-01T00:00:00",
          "2019-01-01T00:00:00",
          "2019-02-01T00:00:00",
          "2019-03-01T00:00:00",
          "2019-04-01T00:00:00",
          "2019-05-01T00:00:00",
          "2019-06-01T00:00:00",
          "2019-07-01T00:00:00",
          "2019-08-01T00:00:00",
          "2019-09-01T00:00:00",
          "2019-10-01T00:00:00",
          "2019-11-01T00:00:00",
          "2019-12-01T00:00:00",
          "2020-01-01T00:00:00",
          "2020-02-01T00:00:00",
          "2020-03-01T00:00:00",
          "2020-04-01T00:00:00",
          "2020-05-01T00:00:00",
          "2020-06-01T00:00:00",
          "2020-07-01T00:00:00",
          "2020-08-01T00:00:00",
          "2020-09-01T00:00:00"
         ],
         "xaxis": "x",
         "y": [
          59.9622,
          67.0605,
          74.235,
          78.112,
          84.7636,
          100.596,
          100.1263,
          96.3607,
          85.8007,
          70.3934,
          60.8072,
          58.6598,
          61.0996,
          72.2062,
          80.0984,
          83.9059,
          87.3712,
          109.7467,
          107.3748,
          99.6631,
          91.6272,
          75.3049,
          65.9342,
          61.5304,
          62.9796,
          75.3447,
          84.2683,
          84.5883,
          90.5395,
          109.9025,
          103.8903,
          101.0265,
          89.4762,
          73.6952,
          66.1573,
          61.0653,
          64.2659,
          75.4174,
          85.169,
          85.0917,
          97.3552,
          113.5254,
          108.1455,
          104.8251,
          90.1157,
          75.7187,
          70.2168,
          62.7436,
          61.9418,
          74.0597,
          86.9646,
          90.131,
          94.1542,
          110.0257,
          107.4617,
          103.8183,
          92.238,
          75.1034,
          67.532,
          62.483,
          63.7684,
          75.0613,
          90.0211,
          92.6645,
          99.12,
          114.723,
          112.3297,
          106.4137,
          91.7217,
          76.0245,
          67.3937,
          61.4415,
          61.888,
          72.8712,
          83.9315,
          89.0592,
          92.4522,
          111.3258,
          106.9251,
          103.6909,
          90.6197,
          79.1839,
          67.8849,
          62.4032,
          63.0121,
          73.9406,
          86.4275,
          91.2026,
          94.7007,
          110.1034,
          107.1544,
          106.7727,
          95.3163,
          79.5977,
          67.8927,
          63.285,
          66.9827,
          76.4441,
          85.8896,
          87.9979,
          92.1732,
          108.4666,
          107.8745,
          107.8574,
          90.6691,
          76.2283,
          66.4869,
          63.8654,
          60.5596,
          76.4854,
          86.6148,
          89.0339,
          93.6984,
          110.6836,
          110.7837,
          106.1196,
          91.4711,
          76.9246,
          71.0281,
          66.5992,
          62.0754,
          77.0295,
          88.5032,
          86.244,
          93.3385,
          106.9338,
          101.1462,
          98.2014,
          86.1862,
          72.0738,
          66.0278,
          61.469,
          63.5263,
          74.3646,
          86.6512,
          83.5305,
          94.3514,
          110.2263,
          107.5508,
          105.2968,
          95.8909,
          79.0648,
          70.3554,
          65.5867,
          67.0011,
          85.6144,
          96.7755,
          101.8245,
          108.3343,
          128.8405,
          125.1273,
          116.6079,
          106.8885,
          88.2627,
          80.3855,
          73.974,
          76.1736,
          86.6116,
          101.2354,
          104.8666,
          114.318,
          130.5975,
          124.5167,
          117.4459,
          104.0654,
          86.2262,
          74.6592,
          70.6329,
          73.682,
          88.9355,
          100.0295,
          104.3014,
          113.2964,
          127.3228,
          121.323,
          119.079,
          96.8704,
          86.412,
          76.9717,
          70.6204,
          73.948,
          94.5373,
          103.6022,
          106.819,
          116.8105,
          132.008,
          127.4044,
          123.6748,
          106.7224,
          89.4039,
          84.6298,
          79.7024,
          79.9002,
          98.0175,
          115.092,
          119.3721,
          130.0414,
          150.9298,
          145.4406,
          140.7433,
          117.3826,
          100.0984,
          87.7763,
          83.0951,
          87.6177,
          104.3502,
          115.434,
          121.1818,
          126.1014,
          140.4695,
          135.0524,
          128.2777,
          110.4963,
          97.427,
          90.7381,
          86.0141,
          82.5291,
          103.7776,
          117.2887,
          121.9508,
          126.5316,
          141.2775,
          143.6218,
          129.0701,
          114.4056,
          98.353,
          87.9189,
          85.7338,
          85.2665,
          104.8588,
          118.1119,
          123.0359,
          127.9323,
          157.4896,
          140.6807,
          135.6808,
          120.9914,
          103.7686,
          91.882,
          89.0019,
          90.2244,
          110.4098,
          131.4666,
          135.2148,
          142.7928,
          158.2887,
          147.0626,
          143.9345,
          127.0568,
          109.5147,
          99.3276,
          92.9703,
          95.3665,
          123.4377,
          133.6159,
          140.7597,
          150.5615,
          165.0825,
          159.3991,
          152.2206,
          128.2921,
          109.5646,
          96.3109,
          90.508,
          99.4781,
          119.706,
          134.2504,
          141.2588,
          144.7913,
          159.228,
          155.8514,
          143.5421,
          121.3149,
          109.9283,
          102.0735,
          94.1296,
          104.9496,
          122.5914,
          138.8764,
          150.0524,
          148.7095,
          174.4632,
          173.0159,
          164.7302,
          137.9415,
          127.0089,
          108.0761,
          95.7693,
          108.7666,
          129.4163,
          145.4127,
          151.9554,
          156.9814,
          184.1093,
          169.3725,
          152.8792,
          136.2178,
          113.1833,
          97.419,
          94.4327,
          103.5788,
          127.1437,
          138.0852,
          137.5455,
          141.6972,
          158.4195,
          146.3529,
          137.5518,
          116.5002,
          105.4953,
          94.5096,
          83.5459,
          96.5701,
          118.2285,
          129.3521,
          134.3474,
          140.5265,
          149.2407,
          139.2554,
          129.8794,
          114.7175,
          96.584,
          82.2537,
          78.6816,
          86.3952,
          100.6297,
          106.4133,
          112.6711,
          116.2802,
          128.8553,
          122.1347,
          119.6529,
          103.5391,
          92.1367,
          84.3381,
          79.5262,
          93.351,
          111.2944,
          125.0698,
          136.5341,
          135.6032,
          150.1199,
          145.4325,
          131.8293,
          117.1805,
          113.7341,
          92.6327,
          88.5149,
          101.375,
          115.9745,
          122.6815,
          134.3882,
          131.9872,
          148.4196,
          141.4769,
          134.7753,
          128.6196,
          115.1136,
          105.0913,
          104.6018,
          120.9601,
          143.6813,
          155.2061,
          169.2145,
          165.2011,
          188.8447,
          173.2341,
          163.2352,
          150.6134,
          136.756,
          114.5562,
          105.6179,
          125.2497,
          142.3906,
          144.6613,
          151.4035,
          147.3393,
          162.8491,
          146.1043,
          141.1325,
          126.7308,
          115.8376,
          106.6816,
          93.5263,
          104.1156,
          126.0228,
          140.4459,
          148.6412,
          150.4552,
          169.0362,
          157.2643,
          153.5255,
          144.4268,
          139.5258,
          120.5195,
          111.2821,
          130.2719,
          148.1976,
          159.275,
          171.8314,
          169.9522,
          196.1737,
          190.2501,
          179.2849,
          153.7389,
          144.2127,
          122.2164,
          106.9509,
          130.8295,
          144.3001,
          156.3691,
          167.7272,
          159.9362,
          182.6261,
          176.0375,
          164.2845,
          146.4184,
          127.9182,
          111.0826,
          102.3068,
          126.2649,
          139.0987,
          153.0866,
          169.9811,
          167.3083,
          180.0874,
          167.2158,
          149.2237,
          141.9697,
          126.3227,
          104.0224,
          99.4948,
          107.9956,
          124.8185,
          139.8023,
          141.8197,
          143.6774,
          169.4044,
          145.0205,
          139.7905,
          124.0207,
          108.9576,
          102.446,
          83.7946,
          94.1914,
          115.2161,
          129.6325,
          133.0755,
          137.9925,
          150.3558,
          134.4829,
          132.5304,
          119.4439,
          106.7741,
          87.8541,
          77.7939,
          91.2895,
          110.4994,
          127.0971,
          132.6468,
          134.5576,
          143.9519,
          128.8566,
          125.5563,
          116.0686,
          97.752,
          81.0871,
          72.7801,
          92.611,
          106.1656,
          114.2484,
          116.6234,
          116.1365,
          120.7737,
          116.2615,
          115.0031,
          101.7561,
          91.1014,
          76.5099,
          71.4595,
          85.3987,
          99.5615,
          112.4868,
          114.8111,
          114.566,
          124.3428,
          112.327,
          107.643,
          96.37,
          88.8864,
          74.8375,
          68.7691,
          78.1175,
          98.0341,
          107.8837,
          107.9098,
          110.913,
          128.6909,
          112.3692,
          106.0546,
          98.1912,
          90.9982,
          80.0694,
          67.8031,
          86.3975,
          101.7308,
          113.7756,
          119.3533,
          116.6308,
          131.0397,
          117.2721,
          111.418,
          100.6174,
          91.2615,
          86.5723,
          75.3749,
          85.5769,
          100.558,
          109.5789,
          108.3617,
          106.0577,
          116.1377,
          108.3776,
          112.2052,
          100.3483,
          93.9317,
          85.864,
          76.9749,
          92.8105,
          101.9743,
          116.1793,
          124.2106,
          121.5435,
          132.9865,
          124.8514,
          121.3321,
          108.0359,
          101.3836,
          86.6647,
          81.2569,
          94.2454,
          112.3879,
          119.6982,
          123.2282,
          116.0635,
          123.087,
          116.2639,
          113.1717,
          97.9125,
          90.4732,
          77.4378,
          75.8118,
          83.4343,
          99.4899,
          107.3152,
          112.4309,
          110.3544,
          124.5841,
          117.2215,
          112.6779,
          103.3118,
          92.1321,
          82.4347,
          76.7608,
          86.9988,
          98.1116,
          116.1718,
          114.9703,
          114.5613,
          124.9605,
          110.2632,
          102.6085,
          101.5866,
          90.23118581074178,
          85.3214384585753,
          88.72134123349934,
          99.40583165763616,
          110.870578625831,
          119.45606651141345,
          126.03364944358766,
          129.48801364456415,
          129.5130046729386,
          121.47783988725841,
          108.46091973628401,
          93.73075352811216
         ],
         "yaxis": "y"
        }
       ],
       "layout": {
        "legend": {
         "tracegroupgap": 0
        },
        "template": {
         "data": {
          "bar": [
           {
            "error_x": {
             "color": "#2a3f5f"
            },
            "error_y": {
             "color": "#2a3f5f"
            },
            "marker": {
             "line": {
              "color": "#E5ECF6",
              "width": 0.5
             }
            },
            "type": "bar"
           }
          ],
          "barpolar": [
           {
            "marker": {
             "line": {
              "color": "#E5ECF6",
              "width": 0.5
             }
            },
            "type": "barpolar"
           }
          ],
          "carpet": [
           {
            "aaxis": {
             "endlinecolor": "#2a3f5f",
             "gridcolor": "white",
             "linecolor": "white",
             "minorgridcolor": "white",
             "startlinecolor": "#2a3f5f"
            },
            "baxis": {
             "endlinecolor": "#2a3f5f",
             "gridcolor": "white",
             "linecolor": "white",
             "minorgridcolor": "white",
             "startlinecolor": "#2a3f5f"
            },
            "type": "carpet"
           }
          ],
          "choropleth": [
           {
            "colorbar": {
             "outlinewidth": 0,
             "ticks": ""
            },
            "type": "choropleth"
           }
          ],
          "contour": [
           {
            "colorbar": {
             "outlinewidth": 0,
             "ticks": ""
            },
            "colorscale": [
             [
              0,
              "#0d0887"
             ],
             [
              0.1111111111111111,
              "#46039f"
             ],
             [
              0.2222222222222222,
              "#7201a8"
             ],
             [
              0.3333333333333333,
              "#9c179e"
             ],
             [
              0.4444444444444444,
              "#bd3786"
             ],
             [
              0.5555555555555556,
              "#d8576b"
             ],
             [
              0.6666666666666666,
              "#ed7953"
             ],
             [
              0.7777777777777778,
              "#fb9f3a"
             ],
             [
              0.8888888888888888,
              "#fdca26"
             ],
             [
              1,
              "#f0f921"
             ]
            ],
            "type": "contour"
           }
          ],
          "contourcarpet": [
           {
            "colorbar": {
             "outlinewidth": 0,
             "ticks": ""
            },
            "type": "contourcarpet"
           }
          ],
          "heatmap": [
           {
            "colorbar": {
             "outlinewidth": 0,
             "ticks": ""
            },
            "colorscale": [
             [
              0,
              "#0d0887"
             ],
             [
              0.1111111111111111,
              "#46039f"
             ],
             [
              0.2222222222222222,
              "#7201a8"
             ],
             [
              0.3333333333333333,
              "#9c179e"
             ],
             [
              0.4444444444444444,
              "#bd3786"
             ],
             [
              0.5555555555555556,
              "#d8576b"
             ],
             [
              0.6666666666666666,
              "#ed7953"
             ],
             [
              0.7777777777777778,
              "#fb9f3a"
             ],
             [
              0.8888888888888888,
              "#fdca26"
             ],
             [
              1,
              "#f0f921"
             ]
            ],
            "type": "heatmap"
           }
          ],
          "heatmapgl": [
           {
            "colorbar": {
             "outlinewidth": 0,
             "ticks": ""
            },
            "colorscale": [
             [
              0,
              "#0d0887"
             ],
             [
              0.1111111111111111,
              "#46039f"
             ],
             [
              0.2222222222222222,
              "#7201a8"
             ],
             [
              0.3333333333333333,
              "#9c179e"
             ],
             [
              0.4444444444444444,
              "#bd3786"
             ],
             [
              0.5555555555555556,
              "#d8576b"
             ],
             [
              0.6666666666666666,
              "#ed7953"
             ],
             [
              0.7777777777777778,
              "#fb9f3a"
             ],
             [
              0.8888888888888888,
              "#fdca26"
             ],
             [
              1,
              "#f0f921"
             ]
            ],
            "type": "heatmapgl"
           }
          ],
          "histogram": [
           {
            "marker": {
             "colorbar": {
              "outlinewidth": 0,
              "ticks": ""
             }
            },
            "type": "histogram"
           }
          ],
          "histogram2d": [
           {
            "colorbar": {
             "outlinewidth": 0,
             "ticks": ""
            },
            "colorscale": [
             [
              0,
              "#0d0887"
             ],
             [
              0.1111111111111111,
              "#46039f"
             ],
             [
              0.2222222222222222,
              "#7201a8"
             ],
             [
              0.3333333333333333,
              "#9c179e"
             ],
             [
              0.4444444444444444,
              "#bd3786"
             ],
             [
              0.5555555555555556,
              "#d8576b"
             ],
             [
              0.6666666666666666,
              "#ed7953"
             ],
             [
              0.7777777777777778,
              "#fb9f3a"
             ],
             [
              0.8888888888888888,
              "#fdca26"
             ],
             [
              1,
              "#f0f921"
             ]
            ],
            "type": "histogram2d"
           }
          ],
          "histogram2dcontour": [
           {
            "colorbar": {
             "outlinewidth": 0,
             "ticks": ""
            },
            "colorscale": [
             [
              0,
              "#0d0887"
             ],
             [
              0.1111111111111111,
              "#46039f"
             ],
             [
              0.2222222222222222,
              "#7201a8"
             ],
             [
              0.3333333333333333,
              "#9c179e"
             ],
             [
              0.4444444444444444,
              "#bd3786"
             ],
             [
              0.5555555555555556,
              "#d8576b"
             ],
             [
              0.6666666666666666,
              "#ed7953"
             ],
             [
              0.7777777777777778,
              "#fb9f3a"
             ],
             [
              0.8888888888888888,
              "#fdca26"
             ],
             [
              1,
              "#f0f921"
             ]
            ],
            "type": "histogram2dcontour"
           }
          ],
          "mesh3d": [
           {
            "colorbar": {
             "outlinewidth": 0,
             "ticks": ""
            },
            "type": "mesh3d"
           }
          ],
          "parcoords": [
           {
            "line": {
             "colorbar": {
              "outlinewidth": 0,
              "ticks": ""
             }
            },
            "type": "parcoords"
           }
          ],
          "pie": [
           {
            "automargin": true,
            "type": "pie"
           }
          ],
          "scatter": [
           {
            "marker": {
             "colorbar": {
              "outlinewidth": 0,
              "ticks": ""
             }
            },
            "type": "scatter"
           }
          ],
          "scatter3d": [
           {
            "line": {
             "colorbar": {
              "outlinewidth": 0,
              "ticks": ""
             }
            },
            "marker": {
             "colorbar": {
              "outlinewidth": 0,
              "ticks": ""
             }
            },
            "type": "scatter3d"
           }
          ],
          "scattercarpet": [
           {
            "marker": {
             "colorbar": {
              "outlinewidth": 0,
              "ticks": ""
             }
            },
            "type": "scattercarpet"
           }
          ],
          "scattergeo": [
           {
            "marker": {
             "colorbar": {
              "outlinewidth": 0,
              "ticks": ""
             }
            },
            "type": "scattergeo"
           }
          ],
          "scattergl": [
           {
            "marker": {
             "colorbar": {
              "outlinewidth": 0,
              "ticks": ""
             }
            },
            "type": "scattergl"
           }
          ],
          "scattermapbox": [
           {
            "marker": {
             "colorbar": {
              "outlinewidth": 0,
              "ticks": ""
             }
            },
            "type": "scattermapbox"
           }
          ],
          "scatterpolar": [
           {
            "marker": {
             "colorbar": {
              "outlinewidth": 0,
              "ticks": ""
             }
            },
            "type": "scatterpolar"
           }
          ],
          "scatterpolargl": [
           {
            "marker": {
             "colorbar": {
              "outlinewidth": 0,
              "ticks": ""
             }
            },
            "type": "scatterpolargl"
           }
          ],
          "scatterternary": [
           {
            "marker": {
             "colorbar": {
              "outlinewidth": 0,
              "ticks": ""
             }
            },
            "type": "scatterternary"
           }
          ],
          "surface": [
           {
            "colorbar": {
             "outlinewidth": 0,
             "ticks": ""
            },
            "colorscale": [
             [
              0,
              "#0d0887"
             ],
             [
              0.1111111111111111,
              "#46039f"
             ],
             [
              0.2222222222222222,
              "#7201a8"
             ],
             [
              0.3333333333333333,
              "#9c179e"
             ],
             [
              0.4444444444444444,
              "#bd3786"
             ],
             [
              0.5555555555555556,
              "#d8576b"
             ],
             [
              0.6666666666666666,
              "#ed7953"
             ],
             [
              0.7777777777777778,
              "#fb9f3a"
             ],
             [
              0.8888888888888888,
              "#fdca26"
             ],
             [
              1,
              "#f0f921"
             ]
            ],
            "type": "surface"
           }
          ],
          "table": [
           {
            "cells": {
             "fill": {
              "color": "#EBF0F8"
             },
             "line": {
              "color": "white"
             }
            },
            "header": {
             "fill": {
              "color": "#C8D4E3"
             },
             "line": {
              "color": "white"
             }
            },
            "type": "table"
           }
          ]
         },
         "layout": {
          "annotationdefaults": {
           "arrowcolor": "#2a3f5f",
           "arrowhead": 0,
           "arrowwidth": 1
          },
          "coloraxis": {
           "colorbar": {
            "outlinewidth": 0,
            "ticks": ""
           }
          },
          "colorscale": {
           "diverging": [
            [
             0,
             "#8e0152"
            ],
            [
             0.1,
             "#c51b7d"
            ],
            [
             0.2,
             "#de77ae"
            ],
            [
             0.3,
             "#f1b6da"
            ],
            [
             0.4,
             "#fde0ef"
            ],
            [
             0.5,
             "#f7f7f7"
            ],
            [
             0.6,
             "#e6f5d0"
            ],
            [
             0.7,
             "#b8e186"
            ],
            [
             0.8,
             "#7fbc41"
            ],
            [
             0.9,
             "#4d9221"
            ],
            [
             1,
             "#276419"
            ]
           ],
           "sequential": [
            [
             0,
             "#0d0887"
            ],
            [
             0.1111111111111111,
             "#46039f"
            ],
            [
             0.2222222222222222,
             "#7201a8"
            ],
            [
             0.3333333333333333,
             "#9c179e"
            ],
            [
             0.4444444444444444,
             "#bd3786"
            ],
            [
             0.5555555555555556,
             "#d8576b"
            ],
            [
             0.6666666666666666,
             "#ed7953"
            ],
            [
             0.7777777777777778,
             "#fb9f3a"
            ],
            [
             0.8888888888888888,
             "#fdca26"
            ],
            [
             1,
             "#f0f921"
            ]
           ],
           "sequentialminus": [
            [
             0,
             "#0d0887"
            ],
            [
             0.1111111111111111,
             "#46039f"
            ],
            [
             0.2222222222222222,
             "#7201a8"
            ],
            [
             0.3333333333333333,
             "#9c179e"
            ],
            [
             0.4444444444444444,
             "#bd3786"
            ],
            [
             0.5555555555555556,
             "#d8576b"
            ],
            [
             0.6666666666666666,
             "#ed7953"
            ],
            [
             0.7777777777777778,
             "#fb9f3a"
            ],
            [
             0.8888888888888888,
             "#fdca26"
            ],
            [
             1,
             "#f0f921"
            ]
           ]
          },
          "colorway": [
           "#636efa",
           "#EF553B",
           "#00cc96",
           "#ab63fa",
           "#FFA15A",
           "#19d3f3",
           "#FF6692",
           "#B6E880",
           "#FF97FF",
           "#FECB52"
          ],
          "font": {
           "color": "#2a3f5f"
          },
          "geo": {
           "bgcolor": "white",
           "lakecolor": "white",
           "landcolor": "#E5ECF6",
           "showlakes": true,
           "showland": true,
           "subunitcolor": "white"
          },
          "hoverlabel": {
           "align": "left"
          },
          "hovermode": "closest",
          "mapbox": {
           "style": "light"
          },
          "paper_bgcolor": "white",
          "plot_bgcolor": "#E5ECF6",
          "polar": {
           "angularaxis": {
            "gridcolor": "white",
            "linecolor": "white",
            "ticks": ""
           },
           "bgcolor": "#E5ECF6",
           "radialaxis": {
            "gridcolor": "white",
            "linecolor": "white",
            "ticks": ""
           }
          },
          "scene": {
           "xaxis": {
            "backgroundcolor": "#E5ECF6",
            "gridcolor": "white",
            "gridwidth": 2,
            "linecolor": "white",
            "showbackground": true,
            "ticks": "",
            "zerolinecolor": "white"
           },
           "yaxis": {
            "backgroundcolor": "#E5ECF6",
            "gridcolor": "white",
            "gridwidth": 2,
            "linecolor": "white",
            "showbackground": true,
            "ticks": "",
            "zerolinecolor": "white"
           },
           "zaxis": {
            "backgroundcolor": "#E5ECF6",
            "gridcolor": "white",
            "gridwidth": 2,
            "linecolor": "white",
            "showbackground": true,
            "ticks": "",
            "zerolinecolor": "white"
           }
          },
          "shapedefaults": {
           "line": {
            "color": "#2a3f5f"
           }
          },
          "ternary": {
           "aaxis": {
            "gridcolor": "white",
            "linecolor": "white",
            "ticks": ""
           },
           "baxis": {
            "gridcolor": "white",
            "linecolor": "white",
            "ticks": ""
           },
           "bgcolor": "#E5ECF6",
           "caxis": {
            "gridcolor": "white",
            "linecolor": "white",
            "ticks": ""
           }
          },
          "title": {
           "x": 0.05
          },
          "xaxis": {
           "automargin": true,
           "gridcolor": "white",
           "linecolor": "white",
           "ticks": "",
           "title": {
            "standoff": 15
           },
           "zerolinecolor": "white",
           "zerolinewidth": 2
          },
          "yaxis": {
           "automargin": true,
           "gridcolor": "white",
           "linecolor": "white",
           "ticks": "",
           "title": {
            "standoff": 15
           },
           "zerolinecolor": "white",
           "zerolinewidth": 2
          }
         }
        },
        "title": {
         "text": "Confirmed,Active,Deaths and Recoveries"
        },
        "xaxis": {
         "anchor": "y",
         "domain": [
          0,
          1
         ],
         "title": {
          "text": "x"
         }
        },
        "yaxis": {
         "anchor": "x",
         "domain": [
          0,
          1
         ],
         "title": {
          "text": "Sale"
         }
        }
       }
      },
      "text/html": [
       "<div>\n",
       "        \n",
       "        \n",
       "            <div id=\"72755be9-2b12-409e-8376-282d4718b2b7\" class=\"plotly-graph-div\" style=\"height:525px; width:100%;\"></div>\n",
       "            <script type=\"text/javascript\">\n",
       "                require([\"plotly\"], function(Plotly) {\n",
       "                    window.PLOTLYENV=window.PLOTLYENV || {};\n",
       "                    \n",
       "                if (document.getElementById(\"72755be9-2b12-409e-8376-282d4718b2b7\")) {\n",
       "                    Plotly.newPlot(\n",
       "                        '72755be9-2b12-409e-8376-282d4718b2b7',\n",
       "                        [{\"hoverlabel\": {\"namelength\": 0}, \"hovertemplate\": \"x=%{x}<br>Sale=%{y}\", \"legendgroup\": \"\", \"line\": {\"color\": \"rgb(229, 134, 6)\", \"dash\": \"solid\"}, \"mode\": \"lines\", \"name\": \"\", \"showlegend\": false, \"type\": \"scatter\", \"x\": [\"1972-01-01T00:00:00\", \"1972-02-01T00:00:00\", \"1972-03-01T00:00:00\", \"1972-04-01T00:00:00\", \"1972-05-01T00:00:00\", \"1972-06-01T00:00:00\", \"1972-07-01T00:00:00\", \"1972-08-01T00:00:00\", \"1972-09-01T00:00:00\", \"1972-10-01T00:00:00\", \"1972-11-01T00:00:00\", \"1972-12-01T00:00:00\", \"1973-01-01T00:00:00\", \"1973-02-01T00:00:00\", \"1973-03-01T00:00:00\", \"1973-04-01T00:00:00\", \"1973-05-01T00:00:00\", \"1973-06-01T00:00:00\", \"1973-07-01T00:00:00\", \"1973-08-01T00:00:00\", \"1973-09-01T00:00:00\", \"1973-10-01T00:00:00\", \"1973-11-01T00:00:00\", \"1973-12-01T00:00:00\", \"1974-01-01T00:00:00\", \"1974-02-01T00:00:00\", \"1974-03-01T00:00:00\", \"1974-04-01T00:00:00\", \"1974-05-01T00:00:00\", \"1974-06-01T00:00:00\", \"1974-07-01T00:00:00\", \"1974-08-01T00:00:00\", \"1974-09-01T00:00:00\", \"1974-10-01T00:00:00\", \"1974-11-01T00:00:00\", \"1974-12-01T00:00:00\", \"1975-01-01T00:00:00\", \"1975-02-01T00:00:00\", \"1975-03-01T00:00:00\", \"1975-04-01T00:00:00\", \"1975-05-01T00:00:00\", \"1975-06-01T00:00:00\", \"1975-07-01T00:00:00\", \"1975-08-01T00:00:00\", \"1975-09-01T00:00:00\", \"1975-10-01T00:00:00\", \"1975-11-01T00:00:00\", \"1975-12-01T00:00:00\", \"1976-01-01T00:00:00\", \"1976-02-01T00:00:00\", \"1976-03-01T00:00:00\", \"1976-04-01T00:00:00\", \"1976-05-01T00:00:00\", \"1976-06-01T00:00:00\", \"1976-07-01T00:00:00\", \"1976-08-01T00:00:00\", \"1976-09-01T00:00:00\", \"1976-10-01T00:00:00\", \"1976-11-01T00:00:00\", \"1976-12-01T00:00:00\", \"1977-01-01T00:00:00\", \"1977-02-01T00:00:00\", \"1977-03-01T00:00:00\", \"1977-04-01T00:00:00\", \"1977-05-01T00:00:00\", \"1977-06-01T00:00:00\", \"1977-07-01T00:00:00\", \"1977-08-01T00:00:00\", \"1977-09-01T00:00:00\", \"1977-10-01T00:00:00\", \"1977-11-01T00:00:00\", \"1977-12-01T00:00:00\", \"1978-01-01T00:00:00\", \"1978-02-01T00:00:00\", \"1978-03-01T00:00:00\", \"1978-04-01T00:00:00\", \"1978-05-01T00:00:00\", \"1978-06-01T00:00:00\", \"1978-07-01T00:00:00\", \"1978-08-01T00:00:00\", \"1978-09-01T00:00:00\", \"1978-10-01T00:00:00\", \"1978-11-01T00:00:00\", \"1978-12-01T00:00:00\", \"1979-01-01T00:00:00\", \"1979-02-01T00:00:00\", \"1979-03-01T00:00:00\", \"1979-04-01T00:00:00\", \"1979-05-01T00:00:00\", \"1979-06-01T00:00:00\", \"1979-07-01T00:00:00\", \"1979-08-01T00:00:00\", \"1979-09-01T00:00:00\", \"1979-10-01T00:00:00\", \"1979-11-01T00:00:00\", \"1979-12-01T00:00:00\", \"1980-01-01T00:00:00\", \"1980-02-01T00:00:00\", \"1980-03-01T00:00:00\", \"1980-04-01T00:00:00\", \"1980-05-01T00:00:00\", \"1980-06-01T00:00:00\", \"1980-07-01T00:00:00\", \"1980-08-01T00:00:00\", \"1980-09-01T00:00:00\", \"1980-10-01T00:00:00\", \"1980-11-01T00:00:00\", \"1980-12-01T00:00:00\", \"1981-01-01T00:00:00\", \"1981-02-01T00:00:00\", \"1981-03-01T00:00:00\", \"1981-04-01T00:00:00\", \"1981-05-01T00:00:00\", \"1981-06-01T00:00:00\", \"1981-07-01T00:00:00\", \"1981-08-01T00:00:00\", \"1981-09-01T00:00:00\", \"1981-10-01T00:00:00\", \"1981-11-01T00:00:00\", \"1981-12-01T00:00:00\", \"1982-01-01T00:00:00\", \"1982-02-01T00:00:00\", \"1982-03-01T00:00:00\", \"1982-04-01T00:00:00\", \"1982-05-01T00:00:00\", \"1982-06-01T00:00:00\", \"1982-07-01T00:00:00\", \"1982-08-01T00:00:00\", \"1982-09-01T00:00:00\", \"1982-10-01T00:00:00\", \"1982-11-01T00:00:00\", \"1982-12-01T00:00:00\", \"1983-01-01T00:00:00\", \"1983-02-01T00:00:00\", \"1983-03-01T00:00:00\", \"1983-04-01T00:00:00\", \"1983-05-01T00:00:00\", \"1983-06-01T00:00:00\", \"1983-07-01T00:00:00\", \"1983-08-01T00:00:00\", \"1983-09-01T00:00:00\", \"1983-10-01T00:00:00\", \"1983-11-01T00:00:00\", \"1983-12-01T00:00:00\", \"1984-01-01T00:00:00\", \"1984-02-01T00:00:00\", \"1984-03-01T00:00:00\", \"1984-04-01T00:00:00\", \"1984-05-01T00:00:00\", \"1984-06-01T00:00:00\", \"1984-07-01T00:00:00\", \"1984-08-01T00:00:00\", \"1984-09-01T00:00:00\", \"1984-10-01T00:00:00\", \"1984-11-01T00:00:00\", \"1984-12-01T00:00:00\", \"1985-01-01T00:00:00\", \"1985-02-01T00:00:00\", \"1985-03-01T00:00:00\", \"1985-04-01T00:00:00\", \"1985-05-01T00:00:00\", \"1985-06-01T00:00:00\", \"1985-07-01T00:00:00\", \"1985-08-01T00:00:00\", \"1985-09-01T00:00:00\", \"1985-10-01T00:00:00\", \"1985-11-01T00:00:00\", \"1985-12-01T00:00:00\", \"1986-01-01T00:00:00\", \"1986-02-01T00:00:00\", \"1986-03-01T00:00:00\", \"1986-04-01T00:00:00\", \"1986-05-01T00:00:00\", \"1986-06-01T00:00:00\", \"1986-07-01T00:00:00\", \"1986-08-01T00:00:00\", \"1986-09-01T00:00:00\", \"1986-10-01T00:00:00\", \"1986-11-01T00:00:00\", \"1986-12-01T00:00:00\", \"1987-01-01T00:00:00\", \"1987-02-01T00:00:00\", \"1987-03-01T00:00:00\", \"1987-04-01T00:00:00\", \"1987-05-01T00:00:00\", \"1987-06-01T00:00:00\", \"1987-07-01T00:00:00\", \"1987-08-01T00:00:00\", \"1987-09-01T00:00:00\", \"1987-10-01T00:00:00\", \"1987-11-01T00:00:00\", \"1987-12-01T00:00:00\", \"1988-01-01T00:00:00\", \"1988-02-01T00:00:00\", \"1988-03-01T00:00:00\", \"1988-04-01T00:00:00\", \"1988-05-01T00:00:00\", \"1988-06-01T00:00:00\", \"1988-07-01T00:00:00\", \"1988-08-01T00:00:00\", \"1988-09-01T00:00:00\", \"1988-10-01T00:00:00\", \"1988-11-01T00:00:00\", \"1988-12-01T00:00:00\", \"1989-01-01T00:00:00\", \"1989-02-01T00:00:00\", \"1989-03-01T00:00:00\", \"1989-04-01T00:00:00\", \"1989-05-01T00:00:00\", \"1989-06-01T00:00:00\", \"1989-07-01T00:00:00\", \"1989-08-01T00:00:00\", \"1989-09-01T00:00:00\", \"1989-10-01T00:00:00\", \"1989-11-01T00:00:00\", \"1989-12-01T00:00:00\", \"1990-01-01T00:00:00\", \"1990-02-01T00:00:00\", \"1990-03-01T00:00:00\", \"1990-04-01T00:00:00\", \"1990-05-01T00:00:00\", \"1990-06-01T00:00:00\", \"1990-07-01T00:00:00\", \"1990-08-01T00:00:00\", \"1990-09-01T00:00:00\", \"1990-10-01T00:00:00\", \"1990-11-01T00:00:00\", \"1990-12-01T00:00:00\", \"1991-01-01T00:00:00\", \"1991-02-01T00:00:00\", \"1991-03-01T00:00:00\", \"1991-04-01T00:00:00\", \"1991-05-01T00:00:00\", \"1991-06-01T00:00:00\", \"1991-07-01T00:00:00\", \"1991-08-01T00:00:00\", \"1991-09-01T00:00:00\", \"1991-10-01T00:00:00\", \"1991-11-01T00:00:00\", \"1991-12-01T00:00:00\", \"1992-01-01T00:00:00\", \"1992-02-01T00:00:00\", \"1992-03-01T00:00:00\", \"1992-04-01T00:00:00\", \"1992-05-01T00:00:00\", \"1992-06-01T00:00:00\", \"1992-07-01T00:00:00\", \"1992-08-01T00:00:00\", \"1992-09-01T00:00:00\", \"1992-10-01T00:00:00\", \"1992-11-01T00:00:00\", \"1992-12-01T00:00:00\", \"1993-01-01T00:00:00\", \"1993-02-01T00:00:00\", \"1993-03-01T00:00:00\", \"1993-04-01T00:00:00\", \"1993-05-01T00:00:00\", \"1993-06-01T00:00:00\", \"1993-07-01T00:00:00\", \"1993-08-01T00:00:00\", \"1993-09-01T00:00:00\", \"1993-10-01T00:00:00\", \"1993-11-01T00:00:00\", \"1993-12-01T00:00:00\", \"1994-01-01T00:00:00\", \"1994-02-01T00:00:00\", \"1994-03-01T00:00:00\", \"1994-04-01T00:00:00\", \"1994-05-01T00:00:00\", \"1994-06-01T00:00:00\", \"1994-07-01T00:00:00\", \"1994-08-01T00:00:00\", \"1994-09-01T00:00:00\", \"1994-10-01T00:00:00\", \"1994-11-01T00:00:00\", \"1994-12-01T00:00:00\", \"1995-01-01T00:00:00\", \"1995-02-01T00:00:00\", \"1995-03-01T00:00:00\", \"1995-04-01T00:00:00\", \"1995-05-01T00:00:00\", \"1995-06-01T00:00:00\", \"1995-07-01T00:00:00\", \"1995-08-01T00:00:00\", \"1995-09-01T00:00:00\", \"1995-10-01T00:00:00\", \"1995-11-01T00:00:00\", \"1995-12-01T00:00:00\", \"1996-01-01T00:00:00\", \"1996-02-01T00:00:00\", \"1996-03-01T00:00:00\", \"1996-04-01T00:00:00\", \"1996-05-01T00:00:00\", \"1996-06-01T00:00:00\", \"1996-07-01T00:00:00\", \"1996-08-01T00:00:00\", \"1996-09-01T00:00:00\", \"1996-10-01T00:00:00\", \"1996-11-01T00:00:00\", \"1996-12-01T00:00:00\", \"1997-01-01T00:00:00\", \"1997-02-01T00:00:00\", \"1997-03-01T00:00:00\", \"1997-04-01T00:00:00\", \"1997-05-01T00:00:00\", \"1997-06-01T00:00:00\", \"1997-07-01T00:00:00\", \"1997-08-01T00:00:00\", \"1997-09-01T00:00:00\", \"1997-10-01T00:00:00\", \"1997-11-01T00:00:00\", \"1997-12-01T00:00:00\", \"1998-01-01T00:00:00\", \"1998-02-01T00:00:00\", \"1998-03-01T00:00:00\", \"1998-04-01T00:00:00\", \"1998-05-01T00:00:00\", \"1998-06-01T00:00:00\", \"1998-07-01T00:00:00\", \"1998-08-01T00:00:00\", \"1998-09-01T00:00:00\", \"1998-10-01T00:00:00\", \"1998-11-01T00:00:00\", \"1998-12-01T00:00:00\", \"1999-01-01T00:00:00\", \"1999-02-01T00:00:00\", \"1999-03-01T00:00:00\", \"1999-04-01T00:00:00\", \"1999-05-01T00:00:00\", \"1999-06-01T00:00:00\", \"1999-07-01T00:00:00\", \"1999-08-01T00:00:00\", \"1999-09-01T00:00:00\", \"1999-10-01T00:00:00\", \"1999-11-01T00:00:00\", \"1999-12-01T00:00:00\", \"2000-01-01T00:00:00\", \"2000-02-01T00:00:00\", \"2000-03-01T00:00:00\", \"2000-04-01T00:00:00\", \"2000-05-01T00:00:00\", \"2000-06-01T00:00:00\", \"2000-07-01T00:00:00\", \"2000-08-01T00:00:00\", \"2000-09-01T00:00:00\", \"2000-10-01T00:00:00\", \"2000-11-01T00:00:00\", \"2000-12-01T00:00:00\", \"2001-01-01T00:00:00\", \"2001-02-01T00:00:00\", \"2001-03-01T00:00:00\", \"2001-04-01T00:00:00\", \"2001-05-01T00:00:00\", \"2001-06-01T00:00:00\", \"2001-07-01T00:00:00\", \"2001-08-01T00:00:00\", \"2001-09-01T00:00:00\", \"2001-10-01T00:00:00\", \"2001-11-01T00:00:00\", \"2001-12-01T00:00:00\", \"2002-01-01T00:00:00\", \"2002-02-01T00:00:00\", \"2002-03-01T00:00:00\", \"2002-04-01T00:00:00\", \"2002-05-01T00:00:00\", \"2002-06-01T00:00:00\", \"2002-07-01T00:00:00\", \"2002-08-01T00:00:00\", \"2002-09-01T00:00:00\", \"2002-10-01T00:00:00\", \"2002-11-01T00:00:00\", \"2002-12-01T00:00:00\", \"2003-01-01T00:00:00\", \"2003-02-01T00:00:00\", \"2003-03-01T00:00:00\", \"2003-04-01T00:00:00\", \"2003-05-01T00:00:00\", \"2003-06-01T00:00:00\", \"2003-07-01T00:00:00\", \"2003-08-01T00:00:00\", \"2003-09-01T00:00:00\", \"2003-10-01T00:00:00\", \"2003-11-01T00:00:00\", \"2003-12-01T00:00:00\", \"2004-01-01T00:00:00\", \"2004-02-01T00:00:00\", \"2004-03-01T00:00:00\", \"2004-04-01T00:00:00\", \"2004-05-01T00:00:00\", \"2004-06-01T00:00:00\", \"2004-07-01T00:00:00\", \"2004-08-01T00:00:00\", \"2004-09-01T00:00:00\", \"2004-10-01T00:00:00\", \"2004-11-01T00:00:00\", \"2004-12-01T00:00:00\", \"2005-01-01T00:00:00\", \"2005-02-01T00:00:00\", \"2005-03-01T00:00:00\", \"2005-04-01T00:00:00\", \"2005-05-01T00:00:00\", \"2005-06-01T00:00:00\", \"2005-07-01T00:00:00\", \"2005-08-01T00:00:00\", \"2005-09-01T00:00:00\", \"2005-10-01T00:00:00\", \"2005-11-01T00:00:00\", \"2005-12-01T00:00:00\", \"2006-01-01T00:00:00\", \"2006-02-01T00:00:00\", \"2006-03-01T00:00:00\", \"2006-04-01T00:00:00\", \"2006-05-01T00:00:00\", \"2006-06-01T00:00:00\", \"2006-07-01T00:00:00\", \"2006-08-01T00:00:00\", \"2006-09-01T00:00:00\", \"2006-10-01T00:00:00\", \"2006-11-01T00:00:00\", \"2006-12-01T00:00:00\", \"2007-01-01T00:00:00\", \"2007-02-01T00:00:00\", \"2007-03-01T00:00:00\", \"2007-04-01T00:00:00\", \"2007-05-01T00:00:00\", \"2007-06-01T00:00:00\", \"2007-07-01T00:00:00\", \"2007-08-01T00:00:00\", \"2007-09-01T00:00:00\", \"2007-10-01T00:00:00\", \"2007-11-01T00:00:00\", \"2007-12-01T00:00:00\", \"2008-01-01T00:00:00\", \"2008-02-01T00:00:00\", \"2008-03-01T00:00:00\", \"2008-04-01T00:00:00\", \"2008-05-01T00:00:00\", \"2008-06-01T00:00:00\", \"2008-07-01T00:00:00\", \"2008-08-01T00:00:00\", \"2008-09-01T00:00:00\", \"2008-10-01T00:00:00\", \"2008-11-01T00:00:00\", \"2008-12-01T00:00:00\", \"2009-01-01T00:00:00\", \"2009-02-01T00:00:00\", \"2009-03-01T00:00:00\", \"2009-04-01T00:00:00\", \"2009-05-01T00:00:00\", \"2009-06-01T00:00:00\", \"2009-07-01T00:00:00\", \"2009-08-01T00:00:00\", \"2009-09-01T00:00:00\", \"2009-10-01T00:00:00\", \"2009-11-01T00:00:00\", \"2009-12-01T00:00:00\", \"2010-01-01T00:00:00\", \"2010-02-01T00:00:00\", \"2010-03-01T00:00:00\", \"2010-04-01T00:00:00\", \"2010-05-01T00:00:00\", \"2010-06-01T00:00:00\", \"2010-07-01T00:00:00\", \"2010-08-01T00:00:00\", \"2010-09-01T00:00:00\", \"2010-10-01T00:00:00\", \"2010-11-01T00:00:00\", \"2010-12-01T00:00:00\", \"2011-01-01T00:00:00\", \"2011-02-01T00:00:00\", \"2011-03-01T00:00:00\", \"2011-04-01T00:00:00\", \"2011-05-01T00:00:00\", \"2011-06-01T00:00:00\", \"2011-07-01T00:00:00\", \"2011-08-01T00:00:00\", \"2011-09-01T00:00:00\", \"2011-10-01T00:00:00\", \"2011-11-01T00:00:00\", \"2011-12-01T00:00:00\", \"2012-01-01T00:00:00\", \"2012-02-01T00:00:00\", \"2012-03-01T00:00:00\", \"2012-04-01T00:00:00\", \"2012-05-01T00:00:00\", \"2012-06-01T00:00:00\", \"2012-07-01T00:00:00\", \"2012-08-01T00:00:00\", \"2012-09-01T00:00:00\", \"2012-10-01T00:00:00\", \"2012-11-01T00:00:00\", \"2012-12-01T00:00:00\", \"2013-01-01T00:00:00\", \"2013-02-01T00:00:00\", \"2013-03-01T00:00:00\", \"2013-04-01T00:00:00\", \"2013-05-01T00:00:00\", \"2013-06-01T00:00:00\", \"2013-07-01T00:00:00\", \"2013-08-01T00:00:00\", \"2013-09-01T00:00:00\", \"2013-10-01T00:00:00\", \"2013-11-01T00:00:00\", \"2013-12-01T00:00:00\", \"2014-01-01T00:00:00\", \"2014-02-01T00:00:00\", \"2014-03-01T00:00:00\", \"2014-04-01T00:00:00\", \"2014-05-01T00:00:00\", \"2014-06-01T00:00:00\", \"2014-07-01T00:00:00\", \"2014-08-01T00:00:00\", \"2014-09-01T00:00:00\", \"2014-10-01T00:00:00\", \"2014-11-01T00:00:00\", \"2014-12-01T00:00:00\", \"2015-01-01T00:00:00\", \"2015-02-01T00:00:00\", \"2015-03-01T00:00:00\", \"2015-04-01T00:00:00\", \"2015-05-01T00:00:00\", \"2015-06-01T00:00:00\", \"2015-07-01T00:00:00\", \"2015-08-01T00:00:00\", \"2015-09-01T00:00:00\", \"2015-10-01T00:00:00\", \"2015-11-01T00:00:00\", \"2015-12-01T00:00:00\", \"2016-01-01T00:00:00\", \"2016-02-01T00:00:00\", \"2016-03-01T00:00:00\", \"2016-04-01T00:00:00\", \"2016-05-01T00:00:00\", \"2016-06-01T00:00:00\", \"2016-07-01T00:00:00\", \"2016-08-01T00:00:00\", \"2016-09-01T00:00:00\", \"2016-10-01T00:00:00\", \"2016-11-01T00:00:00\", \"2016-12-01T00:00:00\", \"2017-01-01T00:00:00\", \"2017-02-01T00:00:00\", \"2017-03-01T00:00:00\", \"2017-04-01T00:00:00\", \"2017-05-01T00:00:00\", \"2017-06-01T00:00:00\", \"2017-07-01T00:00:00\", \"2017-08-01T00:00:00\", \"2017-09-01T00:00:00\", \"2017-10-01T00:00:00\", \"2017-11-01T00:00:00\", \"2017-12-01T00:00:00\", \"2018-01-01T00:00:00\", \"2018-02-01T00:00:00\", \"2018-03-01T00:00:00\", \"2018-04-01T00:00:00\", \"2018-05-01T00:00:00\", \"2018-06-01T00:00:00\", \"2018-07-01T00:00:00\", \"2018-08-01T00:00:00\", \"2018-09-01T00:00:00\", \"2018-10-01T00:00:00\", \"2018-11-01T00:00:00\", \"2018-12-01T00:00:00\", \"2019-01-01T00:00:00\", \"2019-02-01T00:00:00\", \"2019-03-01T00:00:00\", \"2019-04-01T00:00:00\", \"2019-05-01T00:00:00\", \"2019-06-01T00:00:00\", \"2019-07-01T00:00:00\", \"2019-08-01T00:00:00\", \"2019-09-01T00:00:00\", \"2019-10-01T00:00:00\", \"2019-11-01T00:00:00\", \"2019-12-01T00:00:00\", \"2020-01-01T00:00:00\", \"2020-02-01T00:00:00\", \"2020-03-01T00:00:00\", \"2020-04-01T00:00:00\", \"2020-05-01T00:00:00\", \"2020-06-01T00:00:00\", \"2020-07-01T00:00:00\", \"2020-08-01T00:00:00\", \"2020-09-01T00:00:00\"], \"xaxis\": \"x\", \"y\": [59.9622, 67.0605, 74.235, 78.112, 84.7636, 100.596, 100.1263, 96.3607, 85.8007, 70.3934, 60.8072, 58.6598, 61.0996, 72.2062, 80.0984, 83.9059, 87.3712, 109.7467, 107.3748, 99.6631, 91.6272, 75.3049, 65.9342, 61.5304, 62.9796, 75.3447, 84.2683, 84.5883, 90.5395, 109.9025, 103.8903, 101.0265, 89.4762, 73.6952, 66.1573, 61.0653, 64.2659, 75.4174, 85.169, 85.0917, 97.3552, 113.5254, 108.1455, 104.8251, 90.1157, 75.7187, 70.2168, 62.7436, 61.9418, 74.0597, 86.9646, 90.131, 94.1542, 110.0257, 107.4617, 103.8183, 92.238, 75.1034, 67.532, 62.483, 63.7684, 75.0613, 90.0211, 92.6645, 99.12, 114.723, 112.3297, 106.4137, 91.7217, 76.0245, 67.3937, 61.4415, 61.888, 72.8712, 83.9315, 89.0592, 92.4522, 111.3258, 106.9251, 103.6909, 90.6197, 79.1839, 67.8849, 62.4032, 63.0121, 73.9406, 86.4275, 91.2026, 94.7007, 110.1034, 107.1544, 106.7727, 95.3163, 79.5977, 67.8927, 63.285, 66.9827, 76.4441, 85.8896, 87.9979, 92.1732, 108.4666, 107.8745, 107.8574, 90.6691, 76.2283, 66.4869, 63.8654, 60.5596, 76.4854, 86.6148, 89.0339, 93.6984, 110.6836, 110.7837, 106.1196, 91.4711, 76.9246, 71.0281, 66.5992, 62.0754, 77.0295, 88.5032, 86.244, 93.3385, 106.9338, 101.1462, 98.2014, 86.1862, 72.0738, 66.0278, 61.469, 63.5263, 74.3646, 86.6512, 83.5305, 94.3514, 110.2263, 107.5508, 105.2968, 95.8909, 79.0648, 70.3554, 65.5867, 67.0011, 85.6144, 96.7755, 101.8245, 108.3343, 128.8405, 125.1273, 116.6079, 106.8885, 88.2627, 80.3855, 73.974, 76.1736, 86.6116, 101.2354, 104.8666, 114.318, 130.5975, 124.5167, 117.4459, 104.0654, 86.2262, 74.6592, 70.6329, 73.682, 88.9355, 100.0295, 104.3014, 113.2964, 127.3228, 121.323, 119.079, 96.8704, 86.412, 76.9717, 70.6204, 73.948, 94.5373, 103.6022, 106.819, 116.8105, 132.008, 127.4044, 123.6748, 106.7224, 89.4039, 84.6298, 79.7024, 79.9002, 98.0175, 115.092, 119.3721, 130.0414, 150.9298, 145.4406, 140.7433, 117.3826, 100.0984, 87.7763, 83.0951, 87.6177, 104.3502, 115.434, 121.1818, 126.1014, 140.4695, 135.0524, 128.2777, 110.4963, 97.427, 90.7381, 86.0141, 82.5291, 103.7776, 117.2887, 121.9508, 126.5316, 141.2775, 143.6218, 129.0701, 114.4056, 98.353, 87.9189, 85.7338, 85.2665, 104.8588, 118.1119, 123.0359, 127.9323, 157.4896, 140.6807, 135.6808, 120.9914, 103.7686, 91.882, 89.0019, 90.2244, 110.4098, 131.4666, 135.2148, 142.7928, 158.2887, 147.0626, 143.9345, 127.0568, 109.5147, 99.3276, 92.9703, 95.3665, 123.4377, 133.6159, 140.7597, 150.5615, 165.0825, 159.3991, 152.2206, 128.2921, 109.5646, 96.3109, 90.508, 99.4781, 119.706, 134.2504, 141.2588, 144.7913, 159.228, 155.8514, 143.5421, 121.3149, 109.9283, 102.0735, 94.1296, 104.9496, 122.5914, 138.8764, 150.0524, 148.7095, 174.4632, 173.0159, 164.7302, 137.9415, 127.0089, 108.0761, 95.7693, 108.7666, 129.4163, 145.4127, 151.9554, 156.9814, 184.1093, 169.3725, 152.8792, 136.2178, 113.1833, 97.419, 94.4327, 103.5788, 127.1437, 138.0852, 137.5455, 141.6972, 158.4195, 146.3529, 137.5518, 116.5002, 105.4953, 94.5096, 83.5459, 96.5701, 118.2285, 129.3521, 134.3474, 140.5265, 149.2407, 139.2554, 129.8794, 114.7175, 96.584, 82.2537, 78.6816, 86.3952, 100.6297, 106.4133, 112.6711, 116.2802, 128.8553, 122.1347, 119.6529, 103.5391, 92.1367, 84.3381, 79.5262, 93.351, 111.2944, 125.0698, 136.5341, 135.6032, 150.1199, 145.4325, 131.8293, 117.1805, 113.7341, 92.6327, 88.5149, 101.375, 115.9745, 122.6815, 134.3882, 131.9872, 148.4196, 141.4769, 134.7753, 128.6196, 115.1136, 105.0913, 104.6018, 120.9601, 143.6813, 155.2061, 169.2145, 165.2011, 188.8447, 173.2341, 163.2352, 150.6134, 136.756, 114.5562, 105.6179, 125.2497, 142.3906, 144.6613, 151.4035, 147.3393, 162.8491, 146.1043, 141.1325, 126.7308, 115.8376, 106.6816, 93.5263, 104.1156, 126.0228, 140.4459, 148.6412, 150.4552, 169.0362, 157.2643, 153.5255, 144.4268, 139.5258, 120.5195, 111.2821, 130.2719, 148.1976, 159.275, 171.8314, 169.9522, 196.1737, 190.2501, 179.2849, 153.7389, 144.2127, 122.2164, 106.9509, 130.8295, 144.3001, 156.3691, 167.7272, 159.9362, 182.6261, 176.0375, 164.2845, 146.4184, 127.9182, 111.0826, 102.3068, 126.2649, 139.0987, 153.0866, 169.9811, 167.3083, 180.0874, 167.2158, 149.2237, 141.9697, 126.3227, 104.0224, 99.4948, 107.9956, 124.8185, 139.8023, 141.8197, 143.6774, 169.4044, 145.0205, 139.7905, 124.0207, 108.9576, 102.446, 83.7946, 94.1914, 115.2161, 129.6325, 133.0755, 137.9925, 150.3558, 134.4829, 132.5304, 119.4439, 106.7741, 87.8541, 77.7939, 91.2895, 110.4994, 127.0971, 132.6468, 134.5576, 143.9519, 128.8566, 125.5563, 116.0686, 97.752, 81.0871, 72.7801, 92.611, 106.1656, 114.2484, 116.6234, 116.1365, 120.7737, 116.2615, 115.0031, 101.7561, 91.1014, 76.5099, 71.4595, 85.3987, 99.5615, 112.4868, 114.8111, 114.566, 124.3428, 112.327, 107.643, 96.37, 88.8864, 74.8375, 68.7691, 78.1175, 98.0341, 107.8837, 107.9098, 110.913, 128.6909, 112.3692, 106.0546, 98.1912, 90.9982, 80.0694, 67.8031, 86.3975, 101.7308, 113.7756, 119.3533, 116.6308, 131.0397, 117.2721, 111.418, 100.6174, 91.2615, 86.5723, 75.3749, 85.5769, 100.558, 109.5789, 108.3617, 106.0577, 116.1377, 108.3776, 112.2052, 100.3483, 93.9317, 85.864, 76.9749, 92.8105, 101.9743, 116.1793, 124.2106, 121.5435, 132.9865, 124.8514, 121.3321, 108.0359, 101.3836, 86.6647, 81.2569, 94.2454, 112.3879, 119.6982, 123.2282, 116.0635, 123.087, 116.2639, 113.1717, 97.9125, 90.4732, 77.4378, 75.8118, 83.4343, 99.4899, 107.3152, 112.4309, 110.3544, 124.5841, 117.2215, 112.6779, 103.3118, 92.1321, 82.4347, 76.7608, 86.9988, 98.1116, 116.1718, 114.9703, 114.5613, 124.9605, 110.2632, 102.6085, 101.5866, 90.23118581074178, 85.3214384585753, 88.72134123349934, 99.40583165763616, 110.870578625831, 119.45606651141345, 126.03364944358766, 129.48801364456415, 129.5130046729386, 121.47783988725841, 108.46091973628401, 93.73075352811216], \"yaxis\": \"y\"}],\n",
       "                        {\"legend\": {\"tracegroupgap\": 0}, \"template\": {\"data\": {\"bar\": [{\"error_x\": {\"color\": \"#2a3f5f\"}, \"error_y\": {\"color\": \"#2a3f5f\"}, \"marker\": {\"line\": {\"color\": \"#E5ECF6\", \"width\": 0.5}}, \"type\": \"bar\"}], \"barpolar\": [{\"marker\": {\"line\": {\"color\": \"#E5ECF6\", \"width\": 0.5}}, \"type\": \"barpolar\"}], \"carpet\": [{\"aaxis\": {\"endlinecolor\": \"#2a3f5f\", \"gridcolor\": \"white\", \"linecolor\": \"white\", \"minorgridcolor\": \"white\", \"startlinecolor\": \"#2a3f5f\"}, \"baxis\": {\"endlinecolor\": \"#2a3f5f\", \"gridcolor\": \"white\", \"linecolor\": \"white\", \"minorgridcolor\": \"white\", \"startlinecolor\": \"#2a3f5f\"}, \"type\": \"carpet\"}], \"choropleth\": [{\"colorbar\": {\"outlinewidth\": 0, \"ticks\": \"\"}, \"type\": \"choropleth\"}], \"contour\": [{\"colorbar\": {\"outlinewidth\": 0, \"ticks\": \"\"}, \"colorscale\": [[0.0, \"#0d0887\"], [0.1111111111111111, \"#46039f\"], [0.2222222222222222, \"#7201a8\"], [0.3333333333333333, \"#9c179e\"], [0.4444444444444444, \"#bd3786\"], [0.5555555555555556, \"#d8576b\"], [0.6666666666666666, \"#ed7953\"], [0.7777777777777778, \"#fb9f3a\"], [0.8888888888888888, \"#fdca26\"], [1.0, \"#f0f921\"]], \"type\": \"contour\"}], \"contourcarpet\": [{\"colorbar\": {\"outlinewidth\": 0, \"ticks\": \"\"}, \"type\": \"contourcarpet\"}], \"heatmap\": [{\"colorbar\": {\"outlinewidth\": 0, \"ticks\": \"\"}, \"colorscale\": [[0.0, \"#0d0887\"], [0.1111111111111111, \"#46039f\"], [0.2222222222222222, \"#7201a8\"], [0.3333333333333333, \"#9c179e\"], [0.4444444444444444, \"#bd3786\"], [0.5555555555555556, \"#d8576b\"], [0.6666666666666666, \"#ed7953\"], [0.7777777777777778, \"#fb9f3a\"], [0.8888888888888888, \"#fdca26\"], [1.0, \"#f0f921\"]], \"type\": \"heatmap\"}], \"heatmapgl\": [{\"colorbar\": {\"outlinewidth\": 0, \"ticks\": \"\"}, \"colorscale\": [[0.0, \"#0d0887\"], [0.1111111111111111, \"#46039f\"], [0.2222222222222222, \"#7201a8\"], [0.3333333333333333, \"#9c179e\"], [0.4444444444444444, \"#bd3786\"], [0.5555555555555556, \"#d8576b\"], [0.6666666666666666, \"#ed7953\"], [0.7777777777777778, \"#fb9f3a\"], [0.8888888888888888, \"#fdca26\"], [1.0, \"#f0f921\"]], \"type\": \"heatmapgl\"}], \"histogram\": [{\"marker\": {\"colorbar\": {\"outlinewidth\": 0, \"ticks\": \"\"}}, \"type\": \"histogram\"}], \"histogram2d\": [{\"colorbar\": {\"outlinewidth\": 0, \"ticks\": \"\"}, \"colorscale\": [[0.0, \"#0d0887\"], [0.1111111111111111, \"#46039f\"], [0.2222222222222222, \"#7201a8\"], [0.3333333333333333, \"#9c179e\"], [0.4444444444444444, \"#bd3786\"], [0.5555555555555556, \"#d8576b\"], [0.6666666666666666, \"#ed7953\"], [0.7777777777777778, \"#fb9f3a\"], [0.8888888888888888, \"#fdca26\"], [1.0, \"#f0f921\"]], \"type\": \"histogram2d\"}], \"histogram2dcontour\": [{\"colorbar\": {\"outlinewidth\": 0, \"ticks\": \"\"}, \"colorscale\": [[0.0, \"#0d0887\"], [0.1111111111111111, \"#46039f\"], [0.2222222222222222, \"#7201a8\"], [0.3333333333333333, \"#9c179e\"], [0.4444444444444444, \"#bd3786\"], [0.5555555555555556, \"#d8576b\"], [0.6666666666666666, \"#ed7953\"], [0.7777777777777778, \"#fb9f3a\"], [0.8888888888888888, \"#fdca26\"], [1.0, \"#f0f921\"]], \"type\": \"histogram2dcontour\"}], \"mesh3d\": [{\"colorbar\": {\"outlinewidth\": 0, \"ticks\": \"\"}, \"type\": \"mesh3d\"}], \"parcoords\": [{\"line\": {\"colorbar\": {\"outlinewidth\": 0, \"ticks\": \"\"}}, \"type\": \"parcoords\"}], \"pie\": [{\"automargin\": true, \"type\": \"pie\"}], \"scatter\": [{\"marker\": {\"colorbar\": {\"outlinewidth\": 0, \"ticks\": \"\"}}, \"type\": \"scatter\"}], \"scatter3d\": [{\"line\": {\"colorbar\": {\"outlinewidth\": 0, \"ticks\": \"\"}}, \"marker\": {\"colorbar\": {\"outlinewidth\": 0, \"ticks\": \"\"}}, \"type\": \"scatter3d\"}], \"scattercarpet\": [{\"marker\": {\"colorbar\": {\"outlinewidth\": 0, \"ticks\": \"\"}}, \"type\": \"scattercarpet\"}], \"scattergeo\": [{\"marker\": {\"colorbar\": {\"outlinewidth\": 0, \"ticks\": \"\"}}, \"type\": \"scattergeo\"}], \"scattergl\": [{\"marker\": {\"colorbar\": {\"outlinewidth\": 0, \"ticks\": \"\"}}, \"type\": \"scattergl\"}], \"scattermapbox\": [{\"marker\": {\"colorbar\": {\"outlinewidth\": 0, \"ticks\": \"\"}}, \"type\": \"scattermapbox\"}], \"scatterpolar\": [{\"marker\": {\"colorbar\": {\"outlinewidth\": 0, \"ticks\": \"\"}}, \"type\": \"scatterpolar\"}], \"scatterpolargl\": [{\"marker\": {\"colorbar\": {\"outlinewidth\": 0, \"ticks\": \"\"}}, \"type\": \"scatterpolargl\"}], \"scatterternary\": [{\"marker\": {\"colorbar\": {\"outlinewidth\": 0, \"ticks\": \"\"}}, \"type\": \"scatterternary\"}], \"surface\": [{\"colorbar\": {\"outlinewidth\": 0, \"ticks\": \"\"}, \"colorscale\": [[0.0, \"#0d0887\"], [0.1111111111111111, \"#46039f\"], [0.2222222222222222, \"#7201a8\"], [0.3333333333333333, \"#9c179e\"], [0.4444444444444444, \"#bd3786\"], [0.5555555555555556, \"#d8576b\"], [0.6666666666666666, \"#ed7953\"], [0.7777777777777778, \"#fb9f3a\"], [0.8888888888888888, \"#fdca26\"], [1.0, \"#f0f921\"]], \"type\": \"surface\"}], \"table\": [{\"cells\": {\"fill\": {\"color\": \"#EBF0F8\"}, \"line\": {\"color\": \"white\"}}, \"header\": {\"fill\": {\"color\": \"#C8D4E3\"}, \"line\": {\"color\": \"white\"}}, \"type\": \"table\"}]}, \"layout\": {\"annotationdefaults\": {\"arrowcolor\": \"#2a3f5f\", \"arrowhead\": 0, \"arrowwidth\": 1}, \"coloraxis\": {\"colorbar\": {\"outlinewidth\": 0, \"ticks\": \"\"}}, \"colorscale\": {\"diverging\": [[0, \"#8e0152\"], [0.1, \"#c51b7d\"], [0.2, \"#de77ae\"], [0.3, \"#f1b6da\"], [0.4, \"#fde0ef\"], [0.5, \"#f7f7f7\"], [0.6, \"#e6f5d0\"], [0.7, \"#b8e186\"], [0.8, \"#7fbc41\"], [0.9, \"#4d9221\"], [1, \"#276419\"]], \"sequential\": [[0.0, \"#0d0887\"], [0.1111111111111111, \"#46039f\"], [0.2222222222222222, \"#7201a8\"], [0.3333333333333333, \"#9c179e\"], [0.4444444444444444, \"#bd3786\"], [0.5555555555555556, \"#d8576b\"], [0.6666666666666666, \"#ed7953\"], [0.7777777777777778, \"#fb9f3a\"], [0.8888888888888888, \"#fdca26\"], [1.0, \"#f0f921\"]], \"sequentialminus\": [[0.0, \"#0d0887\"], [0.1111111111111111, \"#46039f\"], [0.2222222222222222, \"#7201a8\"], [0.3333333333333333, \"#9c179e\"], [0.4444444444444444, \"#bd3786\"], [0.5555555555555556, \"#d8576b\"], [0.6666666666666666, \"#ed7953\"], [0.7777777777777778, \"#fb9f3a\"], [0.8888888888888888, \"#fdca26\"], [1.0, \"#f0f921\"]]}, \"colorway\": [\"#636efa\", \"#EF553B\", \"#00cc96\", \"#ab63fa\", \"#FFA15A\", \"#19d3f3\", \"#FF6692\", \"#B6E880\", \"#FF97FF\", \"#FECB52\"], \"font\": {\"color\": \"#2a3f5f\"}, \"geo\": {\"bgcolor\": \"white\", \"lakecolor\": \"white\", \"landcolor\": \"#E5ECF6\", \"showlakes\": true, \"showland\": true, \"subunitcolor\": \"white\"}, \"hoverlabel\": {\"align\": \"left\"}, \"hovermode\": \"closest\", \"mapbox\": {\"style\": \"light\"}, \"paper_bgcolor\": \"white\", \"plot_bgcolor\": \"#E5ECF6\", \"polar\": {\"angularaxis\": {\"gridcolor\": \"white\", \"linecolor\": \"white\", \"ticks\": \"\"}, \"bgcolor\": \"#E5ECF6\", \"radialaxis\": {\"gridcolor\": \"white\", \"linecolor\": \"white\", \"ticks\": \"\"}}, \"scene\": {\"xaxis\": {\"backgroundcolor\": \"#E5ECF6\", \"gridcolor\": \"white\", \"gridwidth\": 2, \"linecolor\": \"white\", \"showbackground\": true, \"ticks\": \"\", \"zerolinecolor\": \"white\"}, \"yaxis\": {\"backgroundcolor\": \"#E5ECF6\", \"gridcolor\": \"white\", \"gridwidth\": 2, \"linecolor\": \"white\", \"showbackground\": true, \"ticks\": \"\", \"zerolinecolor\": \"white\"}, \"zaxis\": {\"backgroundcolor\": \"#E5ECF6\", \"gridcolor\": \"white\", \"gridwidth\": 2, \"linecolor\": \"white\", \"showbackground\": true, \"ticks\": \"\", \"zerolinecolor\": \"white\"}}, \"shapedefaults\": {\"line\": {\"color\": \"#2a3f5f\"}}, \"ternary\": {\"aaxis\": {\"gridcolor\": \"white\", \"linecolor\": \"white\", \"ticks\": \"\"}, \"baxis\": {\"gridcolor\": \"white\", \"linecolor\": \"white\", \"ticks\": \"\"}, \"bgcolor\": \"#E5ECF6\", \"caxis\": {\"gridcolor\": \"white\", \"linecolor\": \"white\", \"ticks\": \"\"}}, \"title\": {\"x\": 0.05}, \"xaxis\": {\"automargin\": true, \"gridcolor\": \"white\", \"linecolor\": \"white\", \"ticks\": \"\", \"title\": {\"standoff\": 15}, \"zerolinecolor\": \"white\", \"zerolinewidth\": 2}, \"yaxis\": {\"automargin\": true, \"gridcolor\": \"white\", \"linecolor\": \"white\", \"ticks\": \"\", \"title\": {\"standoff\": 15}, \"zerolinecolor\": \"white\", \"zerolinewidth\": 2}}}, \"title\": {\"text\": \"Confirmed,Active,Deaths and Recoveries\"}, \"xaxis\": {\"anchor\": \"y\", \"domain\": [0.0, 1.0], \"title\": {\"text\": \"x\"}}, \"yaxis\": {\"anchor\": \"x\", \"domain\": [0.0, 1.0], \"title\": {\"text\": \"Sale\"}}},\n",
       "                        {\"responsive\": true}\n",
       "                    ).then(function(){\n",
       "                            \n",
       "var gd = document.getElementById('72755be9-2b12-409e-8376-282d4718b2b7');\n",
       "var x = new MutationObserver(function (mutations, observer) {{\n",
       "        var display = window.getComputedStyle(gd).display;\n",
       "        if (!display || display === 'none') {{\n",
       "            console.log([gd, 'removed!']);\n",
       "            Plotly.purge(gd);\n",
       "            observer.disconnect();\n",
       "        }}\n",
       "}});\n",
       "\n",
       "// Listen for the removal of the full notebook cells\n",
       "var notebookContainer = gd.closest('#notebook-container');\n",
       "if (notebookContainer) {{\n",
       "    x.observe(notebookContainer, {childList: true});\n",
       "}}\n",
       "\n",
       "// Listen for the clearing of the current output cell\n",
       "var outputEl = gd.closest('.output');\n",
       "if (outputEl) {{\n",
       "    x.observe(outputEl, {childList: true});\n",
       "}}\n",
       "\n",
       "                        })\n",
       "                };\n",
       "                });\n",
       "            </script>\n",
       "        </div>"
      ]
     },
     "metadata": {},
     "output_type": "display_data"
    }
   ],
   "source": [
    "fig = px.line(  data_frame=concatted_df,\n",
    "    x=concatted_df.index,\n",
    "    y='Sale',title=\"Confirmed,Active,Deaths and Recoveries\" ,  color_discrete_sequence=px.colors.carto.Vivid,\n",
    "            )\n",
    "fig.show()"
   ]
  },
  {
   "cell_type": "markdown",
   "metadata": {
    "id": "Ip_qMsbF5Ypb"
   },
   "source": [
    "# Save"
   ]
  },
  {
   "cell_type": "code",
   "execution_count": null,
   "metadata": {
    "id": "OcVHS0b65Mi9"
   },
   "outputs": [],
   "source": [
    "# model.save('FrozenDesertForecast.h5')"
   ]
  }
 ],
 "metadata": {
  "colab": {
   "collapsed_sections": [],
   "name": "RnnsFrozenDesert.ipynb",
   "provenance": []
  },
  "kernelspec": {
   "display_name": "Python 3",
   "language": "python",
   "name": "python3"
  },
  "language_info": {
   "codemirror_mode": {
    "name": "ipython",
    "version": 3
   },
   "file_extension": ".py",
   "mimetype": "text/x-python",
   "name": "python",
   "nbconvert_exporter": "python",
   "pygments_lexer": "ipython3",
   "version": "3.8.5"
  }
 },
 "nbformat": 4,
 "nbformat_minor": 1
}
